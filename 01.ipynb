{
 "cells": [
  {
   "cell_type": "markdown",
   "source": [
    "# Preamble\n",
    "\n",
    "Singapore is a country in Southeast Asia with a parliamentary democracy. It has a single chamber parliament comprising _."
   ],
   "metadata": {
    "collapsed": false
   }
  },
  {
   "cell_type": "code",
   "execution_count": 1,
   "outputs": [],
   "source": [
    "import pandas as pd\n",
    "import requests\n",
    "import re\n",
    "import datetime\n",
    "import json\n",
    "import sqlite3"
   ],
   "metadata": {
    "collapsed": false
   }
  },
  {
   "cell_type": "code",
   "execution_count": 9,
   "outputs": [],
   "source": [
    "PAGE = \"https://www.parliament.gov.sg/parliamentary-business/votes-and-proceedings?parliament=14&fromDate=&toDate=&page=1&pageSize=100\"\n",
    "\n",
    "dates_source = requests.get(PAGE).text\n",
    "date_pattern = r\"Sitting on (\\d{1,2}\\s\\w+\\s\\d{4})\"\n",
    "dates = re.findall(date_pattern, dates_source)\n",
    "# dates"
   ],
   "metadata": {
    "collapsed": false
   }
  },
  {
   "cell_type": "code",
   "execution_count": 12,
   "outputs": [
    {
     "data": {
      "text/plain": "['20 October 2022',\n '5 October 2022',\n '4 October 2022',\n '3 October 2022',\n '13 September 2022',\n '12 September 2022',\n '2 August 2022',\n '1 August 2022',\n '5 July 2022',\n '4 July 2022',\n '9 May 2022',\n '5 April 2022',\n '4 April 2022',\n '11 March 2022',\n '10 March 2022',\n '9 March 2022',\n '8 March 2022',\n '7 March 2022',\n '4 March 2022',\n '3 March 2022',\n '2 March 2022',\n '1 March 2022',\n '28 February 2022',\n '18 February 2022',\n '15 February 2022',\n '14 February 2022',\n '12 January 2022',\n '11 January 2022',\n '10 January 2022',\n '3 November 2021',\n '2 November 2021',\n '1 November 2021',\n '5 October 2021',\n '4 October 2021',\n '14 September 2021',\n '13 September 2021',\n '3 August 2021',\n '2 August 2021',\n '27 July 2021',\n '26 July 2021',\n '6 July 2021',\n '5 July 2021',\n '11 May 2021',\n '10 May 2021',\n '5 April 2021',\n '8 March 2021',\n '5 March 2021',\n '4 March 2021',\n '3 March 2021',\n '2 March 2021',\n '1 March 2021',\n '26 February 2021',\n '25 February 2021',\n '24 February 2021',\n '16 February 2021',\n '2 February 2021',\n '1 February 2021',\n '5 January 2021',\n '4 January 2021',\n '4 November 2020',\n '3 November 2020',\n '2 November 2020',\n '15 October 2020',\n '14 October 2020',\n '6 October 2020',\n '5 October 2020',\n '4 September 2020',\n '3 September 2020',\n '2 September 2020',\n '1 September 2020',\n '31 August 2020',\n '24 August 2020']"
     },
     "execution_count": 12,
     "metadata": {},
     "output_type": "execute_result"
    }
   ],
   "source": [
    "dates"
   ],
   "metadata": {
    "collapsed": false
   }
  },
  {
   "cell_type": "code",
   "execution_count": 17,
   "outputs": [],
   "source": [
    "dates_df = (pd.DataFrame(dates, columns=['sitting_dates'])\n",
    "            .assign(sitting_date_dt_ts=lambda x: pd.to_datetime(x.sitting_dates),\n",
    "                    sitting_date_dt_str=lambda x: [datetime.datetime.strftime(x, \"%Y-%m-%d\") for x in\n",
    "                                                   x.sitting_date_dt_ts],\n",
    "                    param_date=lambda x: [datetime.datetime.strftime(x, \"%d-%m-%Y\") for x in x.sitting_date_dt_ts]\n",
    "                    )\n",
    "            )"
   ],
   "metadata": {
    "collapsed": false
   }
  },
  {
   "cell_type": "code",
   "execution_count": 19,
   "outputs": [],
   "source": [
    "# dates_df"
   ],
   "metadata": {
    "collapsed": false
   }
  },
  {
   "cell_type": "code",
   "execution_count": 10,
   "outputs": [
    {
     "name": "stdout",
     "output_type": "stream",
     "text": [
      "20-10-2022 2022-10-20\n",
      "05-10-2022 2022-10-05\n",
      "04-10-2022 2022-10-04\n",
      "03-10-2022 2022-10-03\n",
      "13-09-2022 2022-09-13\n",
      "12-09-2022 2022-09-12\n",
      "02-08-2022 2022-08-02\n",
      "01-08-2022 2022-08-01\n",
      "05-07-2022 2022-07-05\n",
      "04-07-2022 2022-07-04\n",
      "09-05-2022 2022-05-09\n",
      "05-04-2022 2022-04-05\n",
      "04-04-2022 2022-04-04\n",
      "11-03-2022 2022-03-11\n",
      "10-03-2022 2022-03-10\n",
      "09-03-2022 2022-03-09\n",
      "08-03-2022 2022-03-08\n",
      "07-03-2022 2022-03-07\n",
      "04-03-2022 2022-03-04\n",
      "03-03-2022 2022-03-03\n",
      "02-03-2022 2022-03-02\n",
      "01-03-2022 2022-03-01\n",
      "28-02-2022 2022-02-28\n",
      "18-02-2022 2022-02-18\n",
      "15-02-2022 2022-02-15\n",
      "14-02-2022 2022-02-14\n",
      "12-01-2022 2022-01-12\n",
      "11-01-2022 2022-01-11\n",
      "10-01-2022 2022-01-10\n",
      "03-11-2021 2021-11-03\n",
      "02-11-2021 2021-11-02\n",
      "01-11-2021 2021-11-01\n",
      "05-10-2021 2021-10-05\n",
      "04-10-2021 2021-10-04\n",
      "14-09-2021 2021-09-14\n",
      "13-09-2021 2021-09-13\n",
      "03-08-2021 2021-08-03\n",
      "02-08-2021 2021-08-02\n",
      "27-07-2021 2021-07-27\n",
      "26-07-2021 2021-07-26\n",
      "06-07-2021 2021-07-06\n",
      "05-07-2021 2021-07-05\n",
      "11-05-2021 2021-05-11\n",
      "10-05-2021 2021-05-10\n",
      "05-04-2021 2021-04-05\n",
      "08-03-2021 2021-03-08\n",
      "05-03-2021 2021-03-05\n",
      "04-03-2021 2021-03-04\n",
      "03-03-2021 2021-03-03\n",
      "02-03-2021 2021-03-02\n",
      "01-03-2021 2021-03-01\n",
      "26-02-2021 2021-02-26\n",
      "25-02-2021 2021-02-25\n",
      "24-02-2021 2021-02-24\n",
      "16-02-2021 2021-02-16\n",
      "02-02-2021 2021-02-02\n",
      "01-02-2021 2021-02-01\n",
      "05-01-2021 2021-01-05\n",
      "04-01-2021 2021-01-04\n",
      "04-11-2020 2020-11-04\n",
      "03-11-2020 2020-11-03\n",
      "02-11-2020 2020-11-02\n",
      "15-10-2020 2020-10-15\n",
      "14-10-2020 2020-10-14\n",
      "06-10-2020 2020-10-06\n",
      "05-10-2020 2020-10-05\n",
      "04-09-2020 2020-09-04\n",
      "03-09-2020 2020-09-03\n",
      "02-09-2020 2020-09-02\n",
      "01-09-2020 2020-09-01\n",
      "31-08-2020 2020-08-31\n",
      "24-08-2020 2020-08-24\n",
      "06-07-2022 2022-07-06\n"
     ]
    }
   ],
   "source": [
    "def load_raw_data():\n",
    "    headers = {\n",
    "        'Accept': 'application/json, text/plain, */*',\n",
    "        'Accept-Language': 'en-GB,en-US;q=0.9,en;q=0.8',\n",
    "        'Connection': 'keep-alive',\n",
    "        'Origin': 'https://sprs.parl.gov.sg',\n",
    "        'Referer': 'https://sprs.parl.gov.sg/search/',\n",
    "        'Sec-Fetch-Dest': 'empty',\n",
    "        'Sec-Fetch-Mode': 'cors',\n",
    "        'Sec-Fetch-Site': 'same-origin',\n",
    "        'User-Agent': 'Mozilla/5.0 (Macintosh; Intel Mac OS X 10_15_7) AppleWebKit/537.36 (KHTML, like Gecko) Chrome/107.0.0.0 Safari/537.36',\n",
    "        'sec-ch-ua': '\"Google Chrome\";v=\"107\", \"Chromium\";v=\"107\", \"Not=A?Brand\";v=\"24\"',\n",
    "        'sec-ch-ua-mobile': '?0',\n",
    "        'sec-ch-ua-platform': '\"macOS\"',\n",
    "    }\n",
    "\n",
    "    json_data = {\n",
    "        'headers': {\n",
    "            'normalizedNames': {},\n",
    "            'lazyUpdate': None,\n",
    "        },\n",
    "    }\n",
    "\n",
    "    con = sqlite3.connect(\"/Users/whkoh/git-repos/sg-parl/data.db\")\n",
    "    dates_df1 = dates_df[:10]\n",
    "\n",
    "    # for row in dates_df1.itertuples():\n",
    "    #     print(row.param_date)\n",
    "\n",
    "    for row in dates_df.itertuples():\n",
    "        sitting_date_parsed = datetime.datetime.strptime(row.param_date, \"%d-%m-%Y\").strftime(\"%Y-%m-%d\")\n",
    "        params = {'sittingDate': row.param_date}\n",
    "        print(row.param_date, sitting_date_parsed)\n",
    "        response = requests.post('https://sprs.parl.gov.sg/search/getHansardReport/',\n",
    "                                 params=params, headers=headers, json=json_data)\n",
    "        raw_json = json.dumps(response.json())\n",
    "        slim_json = re.sub(r\"<img.*?>\", \"\", raw_json)\n",
    "        cur = con.cursor()\n",
    "        cur.execute(\"\"\"\n",
    "               INSERT INTO json_raw\n",
    "                 (sitting_date, raw)\n",
    "               VALUES\n",
    "                 (?, ?)\n",
    "        \"\"\", (sitting_date_parsed, slim_json))\n",
    "        con.commit()\n"
   ],
   "metadata": {
    "collapsed": false
   }
  },
  {
   "cell_type": "code",
   "execution_count": 20,
   "outputs": [],
   "source": [
    "def test_db():\n",
    "    f = \"/Users/whkoh/git-repos/sg-parl/data.db.xz\"\n",
    "    import lzma\n",
    "    import tempfile\n",
    "    s = lzma.LZMAFile(f)\n",
    "    tf = tempfile.NamedTemporaryFile()\n",
    "    tf.write(s.read())\n",
    "    con1 = sqlite3.connect(tf.name)\n",
    "    cur1 = con1.cursor()\n",
    "    sql = r\"\"\"SELECT t.* FROM json_raw t LIMIT 501;\"\"\"\n",
    "    res = cur1.execute(sql)\n",
    "    print(res.fetchone())"
   ],
   "metadata": {
    "collapsed": false
   }
  },
  {
   "cell_type": "code",
   "execution_count": 66,
   "outputs": [],
   "source": [
    "def load_attendance():\n",
    "    conn = sqlite3.connect(\"/Users/whkoh/git-repos/sg-parl/data.db\")\n",
    "    cur = conn.cursor()\n",
    "    sql = \"\"\"select sitting_date, json_extract(raw, '$.attendanceList') from json_raw t\n",
    "    -- where sitting_date = '2022-10-20'\n",
    "    ;\"\"\"\n",
    "    r = cur.execute(sql)\n",
    "    days = r.fetchall()\n",
    "    overall_attendance_df = pd.DataFrame()\n",
    "    member_constituency_df = pd.DataFrame()\n",
    "    for day in days:\n",
    "        attendance_df = (pd.DataFrame(json.loads(day[1]))\n",
    "        .assign(sitting_date=pd.to_datetime(day[0], format=\"%Y-%m-%d\"),\n",
    "                ret=lambda x: [re.findall(r\"(.*?)\\s\\((.*?)\\)\", y)[0] for y in x.mpName],\n",
    "                member_name=lambda x: [y[0] for y in x.ret],\n",
    "                constituency=lambda x: [y[1].split('(')[-1] for y in x.ret]\n",
    "                )\n",
    "        .rename(columns={'attendance': 'attended'})\n",
    "        )\n",
    "        row_mp_constituency = attendance_df[['member_name', 'constituency']]\n",
    "        day_attendance = attendance_df[['member_name', 'attended', 'sitting_date']]\n",
    "        overall_attendance_df = pd.concat([overall_attendance_df, day_attendance])\n",
    "        member_constituency_df = pd.concat([row_mp_constituency, member_constituency_df])\n",
    "\n",
    "    member_constituency_df.drop_duplicates(inplace=True)\n",
    "    overall_attendance_df.to_sql('attendance', conn, if_exists='replace', index=False)\n",
    "    member_constituency_df.to_sql('member', conn, if_exists='replace', index=False)\n",
    "    conn.close()\n",
    "\n",
    "load_attendance()"
   ],
   "metadata": {
    "collapsed": false
   }
  },
  {
   "cell_type": "code",
   "execution_count": 55,
   "outputs": [],
   "source": [
    "df_attendance = (pd.DataFrame(response.json().get('attendanceList'))\n",
    "                 .assign(ret=lambda x: [re.findall(r\"(.*?)\\s\\((.*?)\\)\", y)[0] for y in x.mpName],\n",
    "                         mp=lambda x: [y[0] for y in x.ret],\n",
    "                         constituency=lambda x: [y[1] for y in x.ret]\n",
    "                         )\n",
    "                 )"
   ],
   "metadata": {
    "collapsed": false
   }
  },
  {
   "cell_type": "code",
   "execution_count": null,
   "outputs": [],
   "source": [
    "df_attendance.head(30)"
   ],
   "metadata": {
    "collapsed": false
   }
  },
  {
   "cell_type": "code",
   "execution_count": 81,
   "outputs": [],
   "source": [
    "def load_section():\n",
    "    conn = sqlite3.connect(\"/Users/whkoh/git-repos/sg-parl/data.db\")\n",
    "    cur = conn.cursor()\n",
    "    sql = \"\"\"select sitting_date, json_extract(raw, '$.takesSectionVOList') from json_raw t\n",
    "    where sitting_date = '2022-10-20'\n",
    "    ;\"\"\"\n",
    "    r = cur.execute(sql)\n",
    "    i, j = r.fetchone()\n",
    "    df = (pd.DataFrame.from_records(json.loads(j))\n",
    "          .assign(sitting_date=i)\n",
    "          .astype(str)\n",
    "          .to_sql('item', con=conn, if_exists='append', index=False)\n",
    "          )\n",
    "\n",
    "    return\n",
    "\n",
    "load_section()\n"
   ],
   "metadata": {
    "collapsed": false
   }
  },
  {
   "cell_type": "code",
   "execution_count": 23,
   "outputs": [
    {
     "ename": "TypeError",
     "evalue": "zip() argument after ** must be a mapping, not str",
     "output_type": "error",
     "traceback": [
      "\u001B[0;31m---------------------------------------------------------------------------\u001B[0m",
      "\u001B[0;31mTypeError\u001B[0m                                 Traceback (most recent call last)",
      "Input \u001B[0;32mIn [23]\u001B[0m, in \u001B[0;36m<cell line: 4>\u001B[0;34m()\u001B[0m\n\u001B[1;32m      1\u001B[0m a \u001B[38;5;241m=\u001B[39m [\u001B[38;5;241m1\u001B[39m,\u001B[38;5;241m2\u001B[39m,\u001B[38;5;241m3\u001B[39m]\n\u001B[1;32m      2\u001B[0m b \u001B[38;5;241m=\u001B[39m \u001B[38;5;124m'\u001B[39m\u001B[38;5;124msrr\u001B[39m\u001B[38;5;124m'\u001B[39m\n\u001B[0;32m----> 4\u001B[0m \u001B[38;5;28;01mfor\u001B[39;00m c, d \u001B[38;5;129;01min\u001B[39;00m \u001B[38;5;28mzip\u001B[39m(a, \u001B[38;5;241m*\u001B[39m\u001B[38;5;241m*\u001B[39mb):\n\u001B[1;32m      5\u001B[0m     \u001B[38;5;28mprint\u001B[39m(c, d)\n",
      "\u001B[0;31mTypeError\u001B[0m: zip() argument after ** must be a mapping, not str"
     ]
    }
   ],
   "source": [
    "\n",
    "b = 'srr'\n",
    "\n",
    "for c, d in zip(a, **b):\n",
    "    print(c, d)"
   ],
   "metadata": {
    "collapsed": false
   }
  },
  {
   "cell_type": "code",
   "execution_count": null,
   "outputs": [],
   "source": [],
   "metadata": {
    "collapsed": false
   }
  }
 ],
 "metadata": {
  "kernelspec": {
   "display_name": "Python 3",
   "language": "python",
   "name": "python3"
  },
  "language_info": {
   "codemirror_mode": {
    "name": "ipython",
    "version": 2
   },
   "file_extension": ".py",
   "mimetype": "text/x-python",
   "name": "python",
   "nbconvert_exporter": "python",
   "pygments_lexer": "ipython2",
   "version": "2.7.6"
  }
 },
 "nbformat": 4,
 "nbformat_minor": 0
}
