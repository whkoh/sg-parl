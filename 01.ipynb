{
 "cells": [
  {
   "cell_type": "markdown",
   "source": [
    "# Preamble\n",
    "\n",
    "Singapore is a country in Southeast Asia with a parliamentary democracy. Singapore has a single chamber legislature, the Singapore Parliament, which governs the country together with its president. Modelled after the Westminster system from the United Kingdom, the Singapore Parliament that includes elected Members of Parliament (MPs) as well as appointed Non-Constituency MPs and Nominated MPs.\n",
    "\n",
    "# Aims\n",
    "\n",
    "This exercise aims to:\n",
    "1. Load data from the Hansard into sqlite for subsequent analysis\n",
    "2. Carry out exploratory analysis including:\n",
    "    1. Attendance records of MPs\n",
    "    1. Questions raised including frequency and length of questions\n",
    "    1. Analyse voting records\n",
    "    1. Analyse adjournment motions\n",
    "1. Carry out sentiment analysis of questions raised by MPs\n",
    "\n",
    "# The Parliament of Singapore site\n",
    "\n",
    "Official reports of Parliamentary debates are in the Hansard, and include attendance of Members, debate transcription and records of votes. All three will be examined in this exercise. The Hansard is published  within seven working days after each Parliament sitting.\n",
    "\n",
    "To analyse"
   ],
   "metadata": {
    "collapsed": false
   }
  },
  {
   "cell_type": "code",
   "execution_count": null,
   "outputs": [],
   "source": [
    "import pandas as pd\n",
    "import numpy as np\n",
    "import requests\n",
    "import re\n",
    "import datetime\n",
    "import json\n",
    "import sqlite3\n",
    "from lxml import html"
   ],
   "metadata": {
    "collapsed": false
   }
  },
  {
   "cell_type": "code",
   "execution_count": null,
   "outputs": [],
   "source": [
    "PAGE = \"https://www.parliament.gov.sg/parliamentary-business/votes-and-proceedings?parliament=14&fromDate=&toDate=&page=1&pageSize=100\"\n",
    "\n",
    "dates_source = requests.get(PAGE).text\n",
    "date_pattern = r\"Sitting on (\\d{1,2}\\s\\w+\\s\\d{4})\"\n",
    "dates = re.findall(date_pattern, dates_source)\n",
    "# dates"
   ],
   "metadata": {
    "collapsed": false
   }
  },
  {
   "cell_type": "code",
   "execution_count": null,
   "outputs": [],
   "source": [
    "dates"
   ],
   "metadata": {
    "collapsed": false
   }
  },
  {
   "cell_type": "code",
   "execution_count": null,
   "outputs": [],
   "source": [
    "dates_df = (pd.DataFrame(dates, columns=['sitting_dates'])\n",
    "            .assign(sitting_date_dt_ts=lambda x: pd.to_datetime(x.sitting_dates),\n",
    "                    sitting_date_dt_str=lambda x: [datetime.datetime.strftime(x, \"%Y-%m-%d\") for x in\n",
    "                                                   x.sitting_date_dt_ts],\n",
    "                    param_date=lambda x: [datetime.datetime.strftime(x, \"%d-%m-%Y\") for x in x.sitting_date_dt_ts]\n",
    "                    )\n",
    "            )"
   ],
   "metadata": {
    "collapsed": false
   }
  },
  {
   "cell_type": "code",
   "execution_count": null,
   "outputs": [],
   "source": [
    "# dates_df"
   ],
   "metadata": {
    "collapsed": false
   }
  },
  {
   "cell_type": "code",
   "execution_count": null,
   "outputs": [],
   "source": [
    "def load_raw_data():\n",
    "    headers = {\n",
    "        'Accept': 'application/json, text/plain, */*',\n",
    "        'Accept-Language': 'en-GB,en-US;q=0.9,en;q=0.8',\n",
    "        'Connection': 'keep-alive',\n",
    "        'Origin': 'https://sprs.parl.gov.sg',\n",
    "        'Referer': 'https://sprs.parl.gov.sg/search/',\n",
    "        'Sec-Fetch-Dest': 'empty',\n",
    "        'Sec-Fetch-Mode': 'cors',\n",
    "        'Sec-Fetch-Site': 'same-origin',\n",
    "        'User-Agent': 'Mozilla/5.0 (Macintosh; Intel Mac OS X 10_15_7) AppleWebKit/537.36 (KHTML, like Gecko) Chrome/107.0.0.0 Safari/537.36',\n",
    "        'sec-ch-ua': '\"Google Chrome\";v=\"107\", \"Chromium\";v=\"107\", \"Not=A?Brand\";v=\"24\"',\n",
    "        'sec-ch-ua-mobile': '?0',\n",
    "        'sec-ch-ua-platform': '\"macOS\"',\n",
    "    }\n",
    "\n",
    "    json_data = {\n",
    "        'headers': {\n",
    "            'normalizedNames': {},\n",
    "            'lazyUpdate': None,\n",
    "        },\n",
    "    }\n",
    "\n",
    "    con = sqlite3.connect(\"/Users/whkoh/git-repos/sg-parl/data.db\")\n",
    "    dates_df1 = dates_df[:10]\n",
    "\n",
    "    # for row in dates_df1.itertuples():\n",
    "    #     print(row.param_date)\n",
    "\n",
    "    for row in dates_df.itertuples():\n",
    "        sitting_date_parsed = datetime.datetime.strptime(row.param_date, \"%d-%m-%Y\").strftime(\"%Y-%m-%d\")\n",
    "        params = {'sittingDate': row.param_date}\n",
    "        print(row.param_date, sitting_date_parsed)\n",
    "        response = requests.post('https://sprs.parl.gov.sg/search/getHansardReport/',\n",
    "                                 params=params, headers=headers, json=json_data)\n",
    "        raw_json = json.dumps(response.json())\n",
    "        slim_json = re.sub(r\"<img.*?>\", \"\", raw_json)\n",
    "        cur = con.cursor()\n",
    "        cur.execute(\"\"\"\n",
    "               INSERT INTO json_raw\n",
    "                 (sitting_date, raw)\n",
    "               VALUES\n",
    "                 (?, ?)\n",
    "        \"\"\", (sitting_date_parsed, slim_json))\n",
    "        con.commit()\n"
   ],
   "metadata": {
    "collapsed": false
   }
  },
  {
   "cell_type": "code",
   "execution_count": null,
   "outputs": [],
   "source": [
    "def test_db():\n",
    "    f = \"/Users/whkoh/git-repos/sg-parl/data.db.xz\"\n",
    "    import lzma\n",
    "    import tempfile\n",
    "    s = lzma.LZMAFile(f)\n",
    "    tf = tempfile.NamedTemporaryFile()\n",
    "    tf.write(s.read())\n",
    "    con1 = sqlite3.connect(tf.name)\n",
    "    cur1 = con1.cursor()\n",
    "    sql = r\"\"\"SELECT t.* FROM json_raw t LIMIT 501;\"\"\"\n",
    "    res = cur1.execute(sql)\n",
    "    print(res.fetchone())"
   ],
   "metadata": {
    "collapsed": false
   }
  },
  {
   "cell_type": "code",
   "execution_count": null,
   "outputs": [],
   "source": [
    "def load_attendance():\n",
    "    conn = sqlite3.connect(\"/Users/whkoh/git-repos/sg-parl/data.db\")\n",
    "    cur = conn.cursor()\n",
    "    sql = \"\"\"select sitting_date, json_extract(raw, '$.attendanceList') from json_raw t\n",
    "    -- where sitting_date = '2022-10-20'\n",
    "    ;\"\"\"\n",
    "    r = cur.execute(sql)\n",
    "    days = r.fetchall()\n",
    "    overall_attendance_df = pd.DataFrame()\n",
    "    member_constituency_df = pd.DataFrame()\n",
    "    for day in days:\n",
    "        attendance_df = (pd.DataFrame(json.loads(day[1]))\n",
    "        .assign(sitting_date=pd.to_datetime(day[0], format=\"%Y-%m-%d\"),\n",
    "                ret=lambda x: [re.findall(r\"(.*?)\\s\\((.*?)\\)\", y)[0] for y in x.mpName],\n",
    "                member_name=lambda x: [y[0] for y in x.ret],\n",
    "                constituency=lambda x: [y[1].split('(')[-1] for y in x.ret]\n",
    "                )\n",
    "        .rename(columns={'attendance': 'attended'})\n",
    "        )\n",
    "        row_mp_constituency = attendance_df[['member_name', 'constituency']]\n",
    "        day_attendance = attendance_df[['member_name', 'attended', 'sitting_date']]\n",
    "        overall_attendance_df = pd.concat([overall_attendance_df, day_attendance])\n",
    "        member_constituency_df = pd.concat([row_mp_constituency, member_constituency_df])\n",
    "\n",
    "    member_constituency_df.drop_duplicates(inplace=True)\n",
    "    overall_attendance_df.to_sql('attendance', conn, if_exists='replace', index=False)\n",
    "    member_constituency_df.to_sql('member', conn, if_exists='replace', index=False)\n",
    "    conn.close()\n",
    "\n",
    "load_attendance()"
   ],
   "metadata": {
    "collapsed": false
   }
  },
  {
   "cell_type": "code",
   "execution_count": null,
   "outputs": [],
   "source": [
    "df_attendance = (pd.DataFrame(response.json().get('attendanceList'))\n",
    "                 .assign(ret=lambda x: [re.findall(r\"(.*?)\\s\\((.*?)\\)\", y)[0] for y in x.mpName],\n",
    "                         mp=lambda x: [y[0] for y in x.ret],\n",
    "                         constituency=lambda x: [y[1] for y in x.ret]\n",
    "                         )\n",
    "                 )"
   ],
   "metadata": {
    "collapsed": false
   }
  },
  {
   "cell_type": "code",
   "execution_count": null,
   "outputs": [],
   "source": [
    "df_attendance.head(30)"
   ],
   "metadata": {
    "collapsed": false
   }
  },
  {
   "cell_type": "code",
   "execution_count": null,
   "outputs": [],
   "source": [
    "def load_section():\n",
    "    conn = sqlite3.connect(\"/Users/whkoh/git-repos/sg-parl/data.db\")\n",
    "    cur = conn.cursor()\n",
    "    sql = \"\"\"select sitting_date, json_extract(raw, '$.takesSectionVOList') from json_raw t\n",
    "    where sitting_date = '2022-10-05'\n",
    "    ;\"\"\"\n",
    "    r = cur.execute(sql)\n",
    "    i, j = r.fetchone()\n",
    "    df = (pd.DataFrame.from_records(json.loads(j))\n",
    "          .assign(sitting_date=i)\n",
    "          .astype(str)\n",
    "          .reset_index()\n",
    "          .rename(columns={'index': 'item_nr'})\n",
    "          .to_sql('item', con=conn, if_exists='append', index=False)\n",
    "          )\n",
    "\n",
    "    return\n",
    "\n",
    "load_section()\n"
   ],
   "metadata": {
    "collapsed": false
   }
  },
  {
   "cell_type": "code",
   "execution_count": null,
   "outputs": [],
   "source": [
    "translator = str.maketrans({chr(10): '', chr(9): '', ':': '', '[': '', ']': ''})\n",
    "\n",
    "def load_item_speech():\n",
    "    conn = sqlite3.connect(\"/Users/whkoh/git-repos/sg-parl/data.db\")\n",
    "    cur = conn.cursor()\n",
    "    sql = \"\"\"select sitting_date, title, item_nr, content, sectionType, reportType from item t\n",
    "    where item_nr in ('16', '17', '18', '19')\n",
    "    ;\"\"\"\n",
    "    r = cur.execute(sql)\n",
    "    rfa = r.fetchall()\n",
    "    for rf in rfa:\n",
    "        try:\n",
    "            if rf[4] == 'OS' and rf[5] == 'Matter Raised On Adjournment Motion':\n",
    "                tree = html.fromstring(rf[3])\n",
    "                _d = [(l.xpath('strong/text()'), l.text) for l in tree] # Use fillna and down to get a df\n",
    "                filled_df = pd.DataFrame(_d, columns=['mp', 'text'])\n",
    "                filled_df = (filled_df\n",
    "                             .mask(filled_df.applymap(str).eq('[]'))\n",
    "                             .fillna(method='ffill', axis=0)\n",
    "                             .assign(mp = lambda x: [y[0] for y in x.mp],\n",
    "                                     sitting_date = rf[0],\n",
    "                                     item = rf[2]\n",
    "                                     )\n",
    "                             )\n",
    "\n",
    "            elif rf[4] == 'WANA' or rf[4] == 'WA' or rf[4] == 'OA' or rf[4] == 'OS':\n",
    "                tree = html.fromstring(rf[3])\n",
    "                _d = [(l.xpath('strong/text()'), l.xpath('text()')) for l in tree] #\n",
    "                filled_df = pd.DataFrame(_d, columns=['mp', 'text'])\n",
    "                filled_df = (filled_df\n",
    "                             .mask(filled_df.applymap(str).eq('[]'))\n",
    "                             .fillna(method='ffill', axis=0)\n",
    "                             .dropna()\n",
    "                             .assign(mp = lambda x: [y[0].translate(translator) for y in x.mp],\n",
    "                                     text = lambda x: [' '.join(y).translate(translator) for y in x.text],\n",
    "                                     sitting_date = rf[0],\n",
    "                                     item = rf[2]\n",
    "                                     )\n",
    "                             )\n",
    "            # elif rf[4] == 'OS':\n",
    "            #     tree = html.fromstring(rf[3])\n",
    "            #     _d = [(l.xpath('strong/text()'), l.xpath('text()')) for l in tree] #\n",
    "            #     filled_df = pd.DataFrame(_d, columns=['mp', 'text'])\n",
    "            #     filled_df = (filled_df\n",
    "            #                  .mask(filled_df.applymap(str).eq('[]'))\n",
    "            #                  .fillna(method='ffill', axis=0)\n",
    "            #     .dropna()\n",
    "            #                  .assign(mp = lambda x: [y[0] for y in x.mp],\n",
    "            #                  #         text = lambda x: [' '.join(y).translate(translator) for y in x.text],\n",
    "            #                  #         sitting_date = rf[0],\n",
    "            #                  #         item = rf[2]\n",
    "            #                          )\n",
    "            #                  )\n",
    "            #\n",
    "            #     return filled_df\n",
    "            else:\n",
    "                print(rf[4], rf[5], rf[0], rf[2], \"Not implemented\")\n",
    "                raise NotImplementedError\n",
    "            filled_df.to_sql('speech', conn, if_exists='append', index=False)\n",
    "        except Exception:\n",
    "            print(rf[4], rf[5], rf[0], rf[2], \"Exception\")\n",
    "    return\n",
    "\n",
    "df2 = load_item_speech()\n",
    "# type(df2.iloc[0,1][0])"
   ],
   "metadata": {
    "collapsed": false
   }
  },
  {
   "cell_type": "code",
   "execution_count": null,
   "outputs": [],
   "source": [
    "df2"
   ],
   "metadata": {
    "collapsed": false
   }
  },
  {
   "cell_type": "code",
   "execution_count": null,
   "outputs": [],
   "source": [],
   "metadata": {
    "collapsed": false
   }
  }
 ],
 "metadata": {
  "kernelspec": {
   "display_name": "Python 3",
   "language": "python",
   "name": "python3"
  },
  "language_info": {
   "codemirror_mode": {
    "name": "ipython",
    "version": 2
   },
   "file_extension": ".py",
   "mimetype": "text/x-python",
   "name": "python",
   "nbconvert_exporter": "python",
   "pygments_lexer": "ipython2",
   "version": "2.7.6"
  }
 },
 "nbformat": 4,
 "nbformat_minor": 0
}
