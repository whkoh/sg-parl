{
 "cells": [
  {
   "cell_type": "code",
   "execution_count": 7,
   "metadata": {
    "collapsed": true
   },
   "outputs": [],
   "source": [
    "from pathlib import Path\n",
    "import pandas as pd\n",
    "from pandas_profiling import ProfileReport\n",
    "import numpy as np"
   ]
  },
  {
   "cell_type": "code",
   "execution_count": 1,
   "outputs": [
    {
     "data": {
      "text/plain": "     year  month      idi\n0    1951      1 -0.74581\n1    1951      2 -0.75763\n2    1951      3 -0.60874\n3    1951      4 -0.41773\n4    1951      5 -0.28236\n..    ...    ...      ...\n787  2016      8 -0.42398\n788  2016      9  0.70726\n789  2016     10  1.39290\n790  2016     11  0.79214\n791  2016     12  0.52813\n\n[792 rows x 3 columns]",
      "text/html": "<div>\n<style scoped>\n    .dataframe tbody tr th:only-of-type {\n        vertical-align: middle;\n    }\n\n    .dataframe tbody tr th {\n        vertical-align: top;\n    }\n\n    .dataframe thead th {\n        text-align: right;\n    }\n</style>\n<table border=\"1\" class=\"dataframe\">\n  <thead>\n    <tr style=\"text-align: right;\">\n      <th></th>\n      <th>year</th>\n      <th>month</th>\n      <th>idi</th>\n    </tr>\n  </thead>\n  <tbody>\n    <tr>\n      <th>0</th>\n      <td>1951</td>\n      <td>1</td>\n      <td>-0.74581</td>\n    </tr>\n    <tr>\n      <th>1</th>\n      <td>1951</td>\n      <td>2</td>\n      <td>-0.75763</td>\n    </tr>\n    <tr>\n      <th>2</th>\n      <td>1951</td>\n      <td>3</td>\n      <td>-0.60874</td>\n    </tr>\n    <tr>\n      <th>3</th>\n      <td>1951</td>\n      <td>4</td>\n      <td>-0.41773</td>\n    </tr>\n    <tr>\n      <th>4</th>\n      <td>1951</td>\n      <td>5</td>\n      <td>-0.28236</td>\n    </tr>\n    <tr>\n      <th>...</th>\n      <td>...</td>\n      <td>...</td>\n      <td>...</td>\n    </tr>\n    <tr>\n      <th>787</th>\n      <td>2016</td>\n      <td>8</td>\n      <td>-0.42398</td>\n    </tr>\n    <tr>\n      <th>788</th>\n      <td>2016</td>\n      <td>9</td>\n      <td>0.70726</td>\n    </tr>\n    <tr>\n      <th>789</th>\n      <td>2016</td>\n      <td>10</td>\n      <td>1.39290</td>\n    </tr>\n    <tr>\n      <th>790</th>\n      <td>2016</td>\n      <td>11</td>\n      <td>0.79214</td>\n    </tr>\n    <tr>\n      <th>791</th>\n      <td>2016</td>\n      <td>12</td>\n      <td>0.52813</td>\n    </tr>\n  </tbody>\n</table>\n<p>792 rows × 3 columns</p>\n</div>"
     },
     "execution_count": 1,
     "metadata": {},
     "output_type": "execute_result"
    }
   ],
   "source": [
    "cwd = Path.cwd()\n",
    "df = pd.read_excel()\n",
    "pp = ProfileReport(df, title=\"icrisat\")\n",
    "\n",
    "drought_df = pd.read_csv(Path(\"/Users/whkoh/Downloads/idi_grided/data_17.625_78.375\"), header=None,\n",
    "                         delim_whitespace=True, names=['year', 'month', 'idi'])\n",
    "drought_df"
   ],
   "metadata": {
    "collapsed": false
   }
  },
  {
   "cell_type": "code",
   "execution_count": 6,
   "outputs": [],
   "source": [
    "# pp"
   ],
   "metadata": {
    "collapsed": false
   }
  },
  {
   "cell_type": "code",
   "execution_count": 37,
   "outputs": [
    {
     "data": {
      "text/plain": "     year  month      idi  change_sign  is_pos  x_days_since_sign_change\n0    1951      1 -0.74581         True   False                        -1\n1    1951      2 -0.75763        False   False                        -1\n2    1951      3 -0.60874        False   False                        -1\n3    1951      4 -0.41773        False   False                        -1\n4    1951      5 -0.28236        False   False                        -1\n..    ...    ...      ...          ...     ...                       ...\n787  2016      8 -0.42398        False   False                        -1\n788  2016      9  0.70726         True    True                         1\n789  2016     10  1.39290        False    True                         1\n790  2016     11  0.79214        False    True                         1\n791  2016     12  0.52813        False    True                         1\n\n[792 rows x 6 columns]",
      "text/html": "<div>\n<style scoped>\n    .dataframe tbody tr th:only-of-type {\n        vertical-align: middle;\n    }\n\n    .dataframe tbody tr th {\n        vertical-align: top;\n    }\n\n    .dataframe thead th {\n        text-align: right;\n    }\n</style>\n<table border=\"1\" class=\"dataframe\">\n  <thead>\n    <tr style=\"text-align: right;\">\n      <th></th>\n      <th>year</th>\n      <th>month</th>\n      <th>idi</th>\n      <th>change_sign</th>\n      <th>is_pos</th>\n      <th>x_days_since_sign_change</th>\n    </tr>\n  </thead>\n  <tbody>\n    <tr>\n      <th>0</th>\n      <td>1951</td>\n      <td>1</td>\n      <td>-0.74581</td>\n      <td>True</td>\n      <td>False</td>\n      <td>-1</td>\n    </tr>\n    <tr>\n      <th>1</th>\n      <td>1951</td>\n      <td>2</td>\n      <td>-0.75763</td>\n      <td>False</td>\n      <td>False</td>\n      <td>-1</td>\n    </tr>\n    <tr>\n      <th>2</th>\n      <td>1951</td>\n      <td>3</td>\n      <td>-0.60874</td>\n      <td>False</td>\n      <td>False</td>\n      <td>-1</td>\n    </tr>\n    <tr>\n      <th>3</th>\n      <td>1951</td>\n      <td>4</td>\n      <td>-0.41773</td>\n      <td>False</td>\n      <td>False</td>\n      <td>-1</td>\n    </tr>\n    <tr>\n      <th>4</th>\n      <td>1951</td>\n      <td>5</td>\n      <td>-0.28236</td>\n      <td>False</td>\n      <td>False</td>\n      <td>-1</td>\n    </tr>\n    <tr>\n      <th>...</th>\n      <td>...</td>\n      <td>...</td>\n      <td>...</td>\n      <td>...</td>\n      <td>...</td>\n      <td>...</td>\n    </tr>\n    <tr>\n      <th>787</th>\n      <td>2016</td>\n      <td>8</td>\n      <td>-0.42398</td>\n      <td>False</td>\n      <td>False</td>\n      <td>-1</td>\n    </tr>\n    <tr>\n      <th>788</th>\n      <td>2016</td>\n      <td>9</td>\n      <td>0.70726</td>\n      <td>True</td>\n      <td>True</td>\n      <td>1</td>\n    </tr>\n    <tr>\n      <th>789</th>\n      <td>2016</td>\n      <td>10</td>\n      <td>1.39290</td>\n      <td>False</td>\n      <td>True</td>\n      <td>1</td>\n    </tr>\n    <tr>\n      <th>790</th>\n      <td>2016</td>\n      <td>11</td>\n      <td>0.79214</td>\n      <td>False</td>\n      <td>True</td>\n      <td>1</td>\n    </tr>\n    <tr>\n      <th>791</th>\n      <td>2016</td>\n      <td>12</td>\n      <td>0.52813</td>\n      <td>False</td>\n      <td>True</td>\n      <td>1</td>\n    </tr>\n  </tbody>\n</table>\n<p>792 rows × 6 columns</p>\n</div>"
     },
     "execution_count": 37,
     "metadata": {},
     "output_type": "execute_result"
    }
   ],
   "source": [
    "ddf = (drought_df\n",
    "       .assign(change_sign=lambda x: np.sign(x.idi).diff().ne(0),\n",
    "               is_pos=lambda x: x.idi.gt(0),\n",
    "               x_days_since_sign_change=lambda x: x.idi.gt(0).astype(int).replace(0, -1)\n",
    "               )\n",
    "       )\n",
    "ddf"
   ],
   "metadata": {
    "collapsed": false
   }
  },
  {
   "cell_type": "code",
   "execution_count": 38,
   "outputs": [
    {
     "data": {
      "text/plain": "     year  month       idi  change_sign  is_pos  x_days_since_sign_change\n0    1951      1 -0.745810            1       0                        -1\n1    3902      3 -1.503440            1       0                        -2\n2    5853      6 -2.112180            1       0                        -3\n3    7804     10 -2.529910            1       0                        -4\n4    9755     15 -2.812270            1       0                        -5\n..    ...    ...       ...          ...     ...                       ...\n787  6048     21 -0.871152            1       0                        -3\n788  2016      9  0.707260            1       1                         1\n789  4032     19  2.100160            1       2                         2\n790  6048     30  2.892300            1       3                         3\n791  8064     42  3.420430            1       4                         4\n\n[792 rows x 6 columns]",
      "text/html": "<div>\n<style scoped>\n    .dataframe tbody tr th:only-of-type {\n        vertical-align: middle;\n    }\n\n    .dataframe tbody tr th {\n        vertical-align: top;\n    }\n\n    .dataframe thead th {\n        text-align: right;\n    }\n</style>\n<table border=\"1\" class=\"dataframe\">\n  <thead>\n    <tr style=\"text-align: right;\">\n      <th></th>\n      <th>year</th>\n      <th>month</th>\n      <th>idi</th>\n      <th>change_sign</th>\n      <th>is_pos</th>\n      <th>x_days_since_sign_change</th>\n    </tr>\n  </thead>\n  <tbody>\n    <tr>\n      <th>0</th>\n      <td>1951</td>\n      <td>1</td>\n      <td>-0.745810</td>\n      <td>1</td>\n      <td>0</td>\n      <td>-1</td>\n    </tr>\n    <tr>\n      <th>1</th>\n      <td>3902</td>\n      <td>3</td>\n      <td>-1.503440</td>\n      <td>1</td>\n      <td>0</td>\n      <td>-2</td>\n    </tr>\n    <tr>\n      <th>2</th>\n      <td>5853</td>\n      <td>6</td>\n      <td>-2.112180</td>\n      <td>1</td>\n      <td>0</td>\n      <td>-3</td>\n    </tr>\n    <tr>\n      <th>3</th>\n      <td>7804</td>\n      <td>10</td>\n      <td>-2.529910</td>\n      <td>1</td>\n      <td>0</td>\n      <td>-4</td>\n    </tr>\n    <tr>\n      <th>4</th>\n      <td>9755</td>\n      <td>15</td>\n      <td>-2.812270</td>\n      <td>1</td>\n      <td>0</td>\n      <td>-5</td>\n    </tr>\n    <tr>\n      <th>...</th>\n      <td>...</td>\n      <td>...</td>\n      <td>...</td>\n      <td>...</td>\n      <td>...</td>\n      <td>...</td>\n    </tr>\n    <tr>\n      <th>787</th>\n      <td>6048</td>\n      <td>21</td>\n      <td>-0.871152</td>\n      <td>1</td>\n      <td>0</td>\n      <td>-3</td>\n    </tr>\n    <tr>\n      <th>788</th>\n      <td>2016</td>\n      <td>9</td>\n      <td>0.707260</td>\n      <td>1</td>\n      <td>1</td>\n      <td>1</td>\n    </tr>\n    <tr>\n      <th>789</th>\n      <td>4032</td>\n      <td>19</td>\n      <td>2.100160</td>\n      <td>1</td>\n      <td>2</td>\n      <td>2</td>\n    </tr>\n    <tr>\n      <th>790</th>\n      <td>6048</td>\n      <td>30</td>\n      <td>2.892300</td>\n      <td>1</td>\n      <td>3</td>\n      <td>3</td>\n    </tr>\n    <tr>\n      <th>791</th>\n      <td>8064</td>\n      <td>42</td>\n      <td>3.420430</td>\n      <td>1</td>\n      <td>4</td>\n      <td>4</td>\n    </tr>\n  </tbody>\n</table>\n<p>792 rows × 6 columns</p>\n</div>"
     },
     "execution_count": 38,
     "metadata": {},
     "output_type": "execute_result"
    }
   ],
   "source": [
    "ddf.groupby((ddf['x_days_since_sign_change'] != ddf['x_days_since_sign_change'].shift()).cumsum()).cumsum()"
   ],
   "metadata": {
    "collapsed": false
   }
  },
  {
   "cell_type": "code",
   "execution_count": 23,
   "outputs": [
    {
     "data": {
      "text/plain": "0        0\n1        1\n2        2\n3        3\n4        4\n      ... \n787    787\n788    788\n789    789\n790    790\n791    791\nLength: 792, dtype: int64"
     },
     "execution_count": 23,
     "metadata": {},
     "output_type": "execute_result"
    }
   ],
   "source": [
    "(drought_df\n",
    " .groupby(drought['idi'].eq(0).cumsum()).cumcount()\n",
    " )\n",
    "\n",
    "# df.groupby((df['x_days_since_sign_change'] != df['x_days_since_sign_change'].shift()).cumsum()).cumsum()\n"
   ],
   "metadata": {
    "collapsed": false
   }
  },
  {
   "cell_type": "code",
   "execution_count": 20,
   "outputs": [
    {
     "data": {
      "text/plain": "     year  month      idi  change_sign  is_pos\n0    1951      1 -0.74581            1   False\n1    1951      2 -0.75763            2   False\n2    1951      3 -0.60874            3   False\n3    1951      4 -0.41773            4   False\n4    1951      5 -0.28236            5   False\n..    ...    ...      ...          ...     ...\n787  2016      8 -0.42398          788   False\n788  2016      9  0.70726          789    True\n789  2016     10  1.39290          790    True\n790  2016     11  0.79214          791    True\n791  2016     12  0.52813          792    True\n\n[792 rows x 5 columns]",
      "text/html": "<div>\n<style scoped>\n    .dataframe tbody tr th:only-of-type {\n        vertical-align: middle;\n    }\n\n    .dataframe tbody tr th {\n        vertical-align: top;\n    }\n\n    .dataframe thead th {\n        text-align: right;\n    }\n</style>\n<table border=\"1\" class=\"dataframe\">\n  <thead>\n    <tr style=\"text-align: right;\">\n      <th></th>\n      <th>year</th>\n      <th>month</th>\n      <th>idi</th>\n      <th>change_sign</th>\n      <th>is_pos</th>\n    </tr>\n  </thead>\n  <tbody>\n    <tr>\n      <th>0</th>\n      <td>1951</td>\n      <td>1</td>\n      <td>-0.74581</td>\n      <td>1</td>\n      <td>False</td>\n    </tr>\n    <tr>\n      <th>1</th>\n      <td>1951</td>\n      <td>2</td>\n      <td>-0.75763</td>\n      <td>2</td>\n      <td>False</td>\n    </tr>\n    <tr>\n      <th>2</th>\n      <td>1951</td>\n      <td>3</td>\n      <td>-0.60874</td>\n      <td>3</td>\n      <td>False</td>\n    </tr>\n    <tr>\n      <th>3</th>\n      <td>1951</td>\n      <td>4</td>\n      <td>-0.41773</td>\n      <td>4</td>\n      <td>False</td>\n    </tr>\n    <tr>\n      <th>4</th>\n      <td>1951</td>\n      <td>5</td>\n      <td>-0.28236</td>\n      <td>5</td>\n      <td>False</td>\n    </tr>\n    <tr>\n      <th>...</th>\n      <td>...</td>\n      <td>...</td>\n      <td>...</td>\n      <td>...</td>\n      <td>...</td>\n    </tr>\n    <tr>\n      <th>787</th>\n      <td>2016</td>\n      <td>8</td>\n      <td>-0.42398</td>\n      <td>788</td>\n      <td>False</td>\n    </tr>\n    <tr>\n      <th>788</th>\n      <td>2016</td>\n      <td>9</td>\n      <td>0.70726</td>\n      <td>789</td>\n      <td>True</td>\n    </tr>\n    <tr>\n      <th>789</th>\n      <td>2016</td>\n      <td>10</td>\n      <td>1.39290</td>\n      <td>790</td>\n      <td>True</td>\n    </tr>\n    <tr>\n      <th>790</th>\n      <td>2016</td>\n      <td>11</td>\n      <td>0.79214</td>\n      <td>791</td>\n      <td>True</td>\n    </tr>\n    <tr>\n      <th>791</th>\n      <td>2016</td>\n      <td>12</td>\n      <td>0.52813</td>\n      <td>792</td>\n      <td>True</td>\n    </tr>\n  </tbody>\n</table>\n<p>792 rows × 5 columns</p>\n</div>"
     },
     "execution_count": 20,
     "metadata": {},
     "output_type": "execute_result"
    }
   ],
   "source": [
    "ddf"
   ],
   "metadata": {
    "collapsed": false
   }
  },
  {
   "cell_type": "code",
   "execution_count": null,
   "outputs": [],
   "source": [],
   "metadata": {
    "collapsed": false
   }
  }
 ],
 "metadata": {
  "kernelspec": {
   "display_name": "Python 3",
   "language": "python",
   "name": "python3"
  },
  "language_info": {
   "codemirror_mode": {
    "name": "ipython",
    "version": 2
   },
   "file_extension": ".py",
   "mimetype": "text/x-python",
   "name": "python",
   "nbconvert_exporter": "python",
   "pygments_lexer": "ipython2",
   "version": "2.7.6"
  }
 },
 "nbformat": 4,
 "nbformat_minor": 0
}
