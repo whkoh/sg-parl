{
 "cells": [
  {
   "cell_type": "code",
   "execution_count": 7,
   "metadata": {
    "collapsed": true
   },
   "outputs": [],
   "source": [
    "import pandas as pd\n",
    "import numpy as np\n",
    "from pathlib import Path"
   ]
  },
  {
   "cell_type": "code",
   "execution_count": 60,
   "outputs": [],
   "source": [
    "def load_data(file: Path, **kwargs):\n",
    "    # reads data into df then and prints description and info\n",
    "    if file.suffix == '.xlsx' or file.suffix == '.xls':\n",
    "        df = pd.read_excel(file, **kwargs)\n",
    "    elif file.suffix == '.csv':\n",
    "        df = pd.read_csv(file, **kwargs)\n",
    "    else:\n",
    "        print(file.suffix)\n",
    "        raise NotImplementedError\n",
    "\n",
    "    print(f\"===== df.info output =====\")\n",
    "    df.info()\n",
    "    print(f\"\\n\\n===== df.describe output =====\\n\", df.describe())\n",
    "    return df"
   ],
   "metadata": {
    "collapsed": false
   }
  },
  {
   "cell_type": "code",
   "execution_count": 61,
   "outputs": [
    {
     "name": "stdout",
     "output_type": "stream",
     "text": [
      "===== df.info output =====\n",
      "<class 'pandas.core.frame.DataFrame'>\n",
      "RangeIndex: 14853 entries, 0 to 14852\n",
      "Data columns (total 15 columns):\n",
      " #   Column     Non-Null Count  Dtype         \n",
      "---  ------     --------------  -----         \n",
      " 0   Station    14853 non-null  object        \n",
      " 1   Date       14853 non-null  datetime64[ns]\n",
      " 2   MaxT       14853 non-null  float64       \n",
      " 3   MinT       14853 non-null  float64       \n",
      " 4   RH1        14853 non-null  int64         \n",
      " 5   RH2        14853 non-null  float64       \n",
      " 6   Wind       14853 non-null  float64       \n",
      " 7   Rain       14853 non-null  float64       \n",
      " 8   SSH        14853 non-null  float64       \n",
      " 9   Evap       14853 non-null  float64       \n",
      " 10  Radiation  14852 non-null  float64       \n",
      " 11  FAO56_ET   14853 non-null  float64       \n",
      " 12  Lat        14853 non-null  float64       \n",
      " 13  Lon        14853 non-null  float64       \n",
      " 14  Cum_Rain   14853 non-null  float64       \n",
      "dtypes: datetime64[ns](1), float64(12), int64(1), object(1)\n",
      "memory usage: 1.7+ MB\n",
      "\n",
      "\n",
      "===== df.describe output =====\n",
      "                MaxT          MinT           RH1           RH2          Wind  \\\n",
      "count  14853.000000  14853.000000  14853.000000  14853.000000  14853.000000   \n",
      "mean      32.055807     19.568720     81.586481     43.550549      8.692278   \n",
      "std        4.115165      4.504939     15.055169     19.613665      4.795461   \n",
      "min       16.500000      4.500000     17.000000      6.300000      0.200000   \n",
      "25%       29.000000     16.500000     75.000000     28.000000      5.200000   \n",
      "50%       31.000000     21.000000     87.000000     40.000000      7.600000   \n",
      "75%       35.000000     22.600000     93.000000     57.000000     11.200000   \n",
      "max       43.500000     30.600000    100.000000    100.000000     56.000000   \n",
      "\n",
      "               Rain           SSH          Evap     Radiation      FAO56_ET  \\\n",
      "count  14853.000000  14853.000000  14853.000000  14852.000000  14853.000000   \n",
      "mean       2.460378      7.457052      6.420043     17.877027      4.808901   \n",
      "std        9.346085      3.341868      3.132334      4.508112      1.816996   \n",
      "min        0.000000      0.000000      0.000000      0.800000      0.400000   \n",
      "25%        0.000000      5.500000      4.200000     15.500000      3.500000   \n",
      "50%        0.000000      8.800000      5.600000     18.200000      4.400000   \n",
      "75%        0.000000     10.100000      8.300000     21.100000      5.900000   \n",
      "max      263.600000     12.400000     19.700000     28.300000     13.600000   \n",
      "\n",
      "                Lat           Lon      Cum_Rain  \n",
      "count  14853.000000  1.485300e+04  14853.000000  \n",
      "mean      17.508409  7.827230e+01    386.065347  \n",
      "std        0.000000  1.421133e-14    398.752032  \n",
      "min       17.508409  7.827230e+01      0.000000  \n",
      "25%       17.508409  7.827230e+01     29.600000  \n",
      "50%       17.508409  7.827230e+01    225.400000  \n",
      "75%       17.508409  7.827230e+01    687.700000  \n",
      "max       17.508409  7.827230e+01   1520.400000  \n"
     ]
    }
   ],
   "source": [
    "cwd = Path.cwd()  # reads current working directory to simplify working with files\n",
    "weather_df = load_data(cwd / \"data\" / \"ICRISAT Weather 1978 to 2018.xlsx\")"
   ],
   "metadata": {
    "collapsed": false
   }
  },
  {
   "cell_type": "code",
   "execution_count": 63,
   "outputs": [
    {
     "name": "stdout",
     "output_type": "stream",
     "text": [
      "===== df.info output =====\n",
      "<class 'pandas.core.frame.DataFrame'>\n",
      "RangeIndex: 792 entries, 0 to 791\n",
      "Data columns (total 3 columns):\n",
      " #   Column  Non-Null Count  Dtype  \n",
      "---  ------  --------------  -----  \n",
      " 0   year    792 non-null    int64  \n",
      " 1   month   792 non-null    int64  \n",
      " 2   idi     792 non-null    float64\n",
      "dtypes: float64(1), int64(2)\n",
      "memory usage: 18.7 KB\n",
      "\n",
      "\n",
      "===== df.describe output =====\n",
      "              year       month           idi\n",
      "count   792.00000  792.000000  7.920000e+02\n",
      "mean   1983.50000    6.500000 -1.055556e-07\n",
      "std      19.06241    3.454234  9.999984e-01\n",
      "min    1951.00000    1.000000 -2.983100e+00\n",
      "25%    1967.00000    3.750000 -7.323450e-01\n",
      "50%    1983.50000    6.500000 -2.742200e-03\n",
      "75%    2000.00000    9.250000  7.447425e-01\n",
      "max    2016.00000   12.000000  2.365900e+00\n"
     ]
    }
   ],
   "source": [
    "drought_df = load_data(cwd / \"data\" / \"data_17.625_78.375.csv\", header=None,\n",
    "                       delim_whitespace=True, names=['year', 'month', 'idi'])"
   ],
   "metadata": {
    "collapsed": false
   }
  },
  {
   "cell_type": "code",
   "execution_count": 108,
   "outputs": [],
   "source": [
    "ddf = (drought_df\n",
    "       .assign(change_sign=lambda x: np.sign(x.idi).diff().ne(0),\n",
    "               is_pos=lambda x: x.idi.gt(0),\n",
    "               ds =lambda x: x.idi.gt(0).astype(int).replace(0, -1),\n",
    "               days = lambda x: abs(x.groupby((x.ds != x.ds.shift()).cumsum()).cumsum().loc[:, 'ds'])\n",
    "               )\n",
    "       )"
   ],
   "metadata": {
    "collapsed": false
   }
  },
  {
   "cell_type": "code",
   "execution_count": 109,
   "outputs": [
    {
     "data": {
      "text/plain": "     year  month      idi  change_sign  is_pos  ds  days\n0    1951      1 -0.74581         True   False  -1     1\n1    1951      2 -0.75763        False   False  -1     2\n2    1951      3 -0.60874        False   False  -1     3\n3    1951      4 -0.41773        False   False  -1     4\n4    1951      5 -0.28236        False   False  -1     5\n..    ...    ...      ...          ...     ...  ..   ...\n787  2016      8 -0.42398        False   False  -1     3\n788  2016      9  0.70726         True    True   1     1\n789  2016     10  1.39290        False    True   1     2\n790  2016     11  0.79214        False    True   1     3\n791  2016     12  0.52813        False    True   1     4\n\n[792 rows x 7 columns]",
      "text/html": "<div>\n<style scoped>\n    .dataframe tbody tr th:only-of-type {\n        vertical-align: middle;\n    }\n\n    .dataframe tbody tr th {\n        vertical-align: top;\n    }\n\n    .dataframe thead th {\n        text-align: right;\n    }\n</style>\n<table border=\"1\" class=\"dataframe\">\n  <thead>\n    <tr style=\"text-align: right;\">\n      <th></th>\n      <th>year</th>\n      <th>month</th>\n      <th>idi</th>\n      <th>change_sign</th>\n      <th>is_pos</th>\n      <th>ds</th>\n      <th>days</th>\n    </tr>\n  </thead>\n  <tbody>\n    <tr>\n      <th>0</th>\n      <td>1951</td>\n      <td>1</td>\n      <td>-0.74581</td>\n      <td>True</td>\n      <td>False</td>\n      <td>-1</td>\n      <td>1</td>\n    </tr>\n    <tr>\n      <th>1</th>\n      <td>1951</td>\n      <td>2</td>\n      <td>-0.75763</td>\n      <td>False</td>\n      <td>False</td>\n      <td>-1</td>\n      <td>2</td>\n    </tr>\n    <tr>\n      <th>2</th>\n      <td>1951</td>\n      <td>3</td>\n      <td>-0.60874</td>\n      <td>False</td>\n      <td>False</td>\n      <td>-1</td>\n      <td>3</td>\n    </tr>\n    <tr>\n      <th>3</th>\n      <td>1951</td>\n      <td>4</td>\n      <td>-0.41773</td>\n      <td>False</td>\n      <td>False</td>\n      <td>-1</td>\n      <td>4</td>\n    </tr>\n    <tr>\n      <th>4</th>\n      <td>1951</td>\n      <td>5</td>\n      <td>-0.28236</td>\n      <td>False</td>\n      <td>False</td>\n      <td>-1</td>\n      <td>5</td>\n    </tr>\n    <tr>\n      <th>...</th>\n      <td>...</td>\n      <td>...</td>\n      <td>...</td>\n      <td>...</td>\n      <td>...</td>\n      <td>...</td>\n      <td>...</td>\n    </tr>\n    <tr>\n      <th>787</th>\n      <td>2016</td>\n      <td>8</td>\n      <td>-0.42398</td>\n      <td>False</td>\n      <td>False</td>\n      <td>-1</td>\n      <td>3</td>\n    </tr>\n    <tr>\n      <th>788</th>\n      <td>2016</td>\n      <td>9</td>\n      <td>0.70726</td>\n      <td>True</td>\n      <td>True</td>\n      <td>1</td>\n      <td>1</td>\n    </tr>\n    <tr>\n      <th>789</th>\n      <td>2016</td>\n      <td>10</td>\n      <td>1.39290</td>\n      <td>False</td>\n      <td>True</td>\n      <td>1</td>\n      <td>2</td>\n    </tr>\n    <tr>\n      <th>790</th>\n      <td>2016</td>\n      <td>11</td>\n      <td>0.79214</td>\n      <td>False</td>\n      <td>True</td>\n      <td>1</td>\n      <td>3</td>\n    </tr>\n    <tr>\n      <th>791</th>\n      <td>2016</td>\n      <td>12</td>\n      <td>0.52813</td>\n      <td>False</td>\n      <td>True</td>\n      <td>1</td>\n      <td>4</td>\n    </tr>\n  </tbody>\n</table>\n<p>792 rows × 7 columns</p>\n</div>"
     },
     "execution_count": 109,
     "metadata": {},
     "output_type": "execute_result"
    }
   ],
   "source": [
    "ddf"
   ],
   "metadata": {
    "collapsed": false
   }
  },
  {
   "cell_type": "code",
   "execution_count": 84,
   "outputs": [
    {
     "ename": "KeyError",
     "evalue": "'_'",
     "output_type": "error",
     "traceback": [
      "\u001B[0;31m---------------------------------------------------------------------------\u001B[0m",
      "\u001B[0;31mKeyError\u001B[0m                                  Traceback (most recent call last)",
      "File \u001B[0;32m~/py/venv/py310/lib/python3.10/site-packages/pandas/core/indexes/base.py:3621\u001B[0m, in \u001B[0;36mIndex.get_loc\u001B[0;34m(self, key, method, tolerance)\u001B[0m\n\u001B[1;32m   3620\u001B[0m \u001B[38;5;28;01mtry\u001B[39;00m:\n\u001B[0;32m-> 3621\u001B[0m     \u001B[38;5;28;01mreturn\u001B[39;00m \u001B[38;5;28;43mself\u001B[39;49m\u001B[38;5;241;43m.\u001B[39;49m\u001B[43m_engine\u001B[49m\u001B[38;5;241;43m.\u001B[39;49m\u001B[43mget_loc\u001B[49m\u001B[43m(\u001B[49m\u001B[43mcasted_key\u001B[49m\u001B[43m)\u001B[49m\n\u001B[1;32m   3622\u001B[0m \u001B[38;5;28;01mexcept\u001B[39;00m \u001B[38;5;167;01mKeyError\u001B[39;00m \u001B[38;5;28;01mas\u001B[39;00m err:\n",
      "File \u001B[0;32m~/py/venv/py310/lib/python3.10/site-packages/pandas/_libs/index.pyx:136\u001B[0m, in \u001B[0;36mpandas._libs.index.IndexEngine.get_loc\u001B[0;34m()\u001B[0m\n",
      "File \u001B[0;32m~/py/venv/py310/lib/python3.10/site-packages/pandas/_libs/index.pyx:163\u001B[0m, in \u001B[0;36mpandas._libs.index.IndexEngine.get_loc\u001B[0;34m()\u001B[0m\n",
      "File \u001B[0;32mpandas/_libs/hashtable_class_helper.pxi:5198\u001B[0m, in \u001B[0;36mpandas._libs.hashtable.PyObjectHashTable.get_item\u001B[0;34m()\u001B[0m\n",
      "File \u001B[0;32mpandas/_libs/hashtable_class_helper.pxi:5206\u001B[0m, in \u001B[0;36mpandas._libs.hashtable.PyObjectHashTable.get_item\u001B[0;34m()\u001B[0m\n",
      "\u001B[0;31mKeyError\u001B[0m: '_'",
      "\nThe above exception was the direct cause of the following exception:\n",
      "\u001B[0;31mKeyError\u001B[0m                                  Traceback (most recent call last)",
      "Input \u001B[0;32mIn [84]\u001B[0m, in \u001B[0;36m<cell line: 1>\u001B[0;34m()\u001B[0m\n\u001B[0;32m----> 1\u001B[0m ddf\u001B[38;5;241m.\u001B[39mgroupby((\u001B[43mddf\u001B[49m\u001B[43m[\u001B[49m\u001B[38;5;124;43m'\u001B[39;49m\u001B[38;5;124;43m_\u001B[39;49m\u001B[38;5;124;43m'\u001B[39;49m\u001B[43m]\u001B[49m \u001B[38;5;241m!=\u001B[39m ddf[\u001B[38;5;124m'\u001B[39m\u001B[38;5;124m_\u001B[39m\u001B[38;5;124m'\u001B[39m]\u001B[38;5;241m.\u001B[39mshift())\u001B[38;5;241m.\u001B[39mcumsum())\u001B[38;5;241m.\u001B[39mcumsum()\n",
      "File \u001B[0;32m~/py/venv/py310/lib/python3.10/site-packages/pandas/core/frame.py:3505\u001B[0m, in \u001B[0;36mDataFrame.__getitem__\u001B[0;34m(self, key)\u001B[0m\n\u001B[1;32m   3503\u001B[0m \u001B[38;5;28;01mif\u001B[39;00m \u001B[38;5;28mself\u001B[39m\u001B[38;5;241m.\u001B[39mcolumns\u001B[38;5;241m.\u001B[39mnlevels \u001B[38;5;241m>\u001B[39m \u001B[38;5;241m1\u001B[39m:\n\u001B[1;32m   3504\u001B[0m     \u001B[38;5;28;01mreturn\u001B[39;00m \u001B[38;5;28mself\u001B[39m\u001B[38;5;241m.\u001B[39m_getitem_multilevel(key)\n\u001B[0;32m-> 3505\u001B[0m indexer \u001B[38;5;241m=\u001B[39m \u001B[38;5;28;43mself\u001B[39;49m\u001B[38;5;241;43m.\u001B[39;49m\u001B[43mcolumns\u001B[49m\u001B[38;5;241;43m.\u001B[39;49m\u001B[43mget_loc\u001B[49m\u001B[43m(\u001B[49m\u001B[43mkey\u001B[49m\u001B[43m)\u001B[49m\n\u001B[1;32m   3506\u001B[0m \u001B[38;5;28;01mif\u001B[39;00m is_integer(indexer):\n\u001B[1;32m   3507\u001B[0m     indexer \u001B[38;5;241m=\u001B[39m [indexer]\n",
      "File \u001B[0;32m~/py/venv/py310/lib/python3.10/site-packages/pandas/core/indexes/base.py:3623\u001B[0m, in \u001B[0;36mIndex.get_loc\u001B[0;34m(self, key, method, tolerance)\u001B[0m\n\u001B[1;32m   3621\u001B[0m     \u001B[38;5;28;01mreturn\u001B[39;00m \u001B[38;5;28mself\u001B[39m\u001B[38;5;241m.\u001B[39m_engine\u001B[38;5;241m.\u001B[39mget_loc(casted_key)\n\u001B[1;32m   3622\u001B[0m \u001B[38;5;28;01mexcept\u001B[39;00m \u001B[38;5;167;01mKeyError\u001B[39;00m \u001B[38;5;28;01mas\u001B[39;00m err:\n\u001B[0;32m-> 3623\u001B[0m     \u001B[38;5;28;01mraise\u001B[39;00m \u001B[38;5;167;01mKeyError\u001B[39;00m(key) \u001B[38;5;28;01mfrom\u001B[39;00m \u001B[38;5;21;01merr\u001B[39;00m\n\u001B[1;32m   3624\u001B[0m \u001B[38;5;28;01mexcept\u001B[39;00m \u001B[38;5;167;01mTypeError\u001B[39;00m:\n\u001B[1;32m   3625\u001B[0m     \u001B[38;5;66;03m# If we have a listlike key, _check_indexing_error will raise\u001B[39;00m\n\u001B[1;32m   3626\u001B[0m     \u001B[38;5;66;03m#  InvalidIndexError. Otherwise we fall through and re-raise\u001B[39;00m\n\u001B[1;32m   3627\u001B[0m     \u001B[38;5;66;03m#  the TypeError.\u001B[39;00m\n\u001B[1;32m   3628\u001B[0m     \u001B[38;5;28mself\u001B[39m\u001B[38;5;241m.\u001B[39m_check_indexing_error(key)\n",
      "\u001B[0;31mKeyError\u001B[0m: '_'"
     ]
    }
   ],
   "source": [
    "ddf.groupby((ddf['_'] != ddf['_'].shift()).cumsum()).cumsum()"
   ],
   "metadata": {
    "collapsed": false
   }
  },
  {
   "cell_type": "code",
   "execution_count": 23,
   "outputs": [
    {
     "data": {
      "text/plain": "0        0\n1        1\n2        2\n3        3\n4        4\n      ... \n787    787\n788    788\n789    789\n790    790\n791    791\nLength: 792, dtype: int64"
     },
     "execution_count": 23,
     "metadata": {},
     "output_type": "execute_result"
    }
   ],
   "source": [
    "(drought_df\n",
    " .groupby(drought['idi'].eq(0).cumsum()).cumcount()\n",
    " )\n",
    "\n",
    "# df.groupby((df['x_days_since_sign_change'] != df['x_days_since_sign_change'].shift()).cumsum()).cumsum()\n"
   ],
   "metadata": {
    "collapsed": false
   }
  },
  {
   "cell_type": "code",
   "execution_count": 20,
   "outputs": [
    {
     "data": {
      "text/plain": "     year  month      idi  change_sign  is_pos\n0    1951      1 -0.74581            1   False\n1    1951      2 -0.75763            2   False\n2    1951      3 -0.60874            3   False\n3    1951      4 -0.41773            4   False\n4    1951      5 -0.28236            5   False\n..    ...    ...      ...          ...     ...\n787  2016      8 -0.42398          788   False\n788  2016      9  0.70726          789    True\n789  2016     10  1.39290          790    True\n790  2016     11  0.79214          791    True\n791  2016     12  0.52813          792    True\n\n[792 rows x 5 columns]",
      "text/html": "<div>\n<style scoped>\n    .dataframe tbody tr th:only-of-type {\n        vertical-align: middle;\n    }\n\n    .dataframe tbody tr th {\n        vertical-align: top;\n    }\n\n    .dataframe thead th {\n        text-align: right;\n    }\n</style>\n<table border=\"1\" class=\"dataframe\">\n  <thead>\n    <tr style=\"text-align: right;\">\n      <th></th>\n      <th>year</th>\n      <th>month</th>\n      <th>idi</th>\n      <th>change_sign</th>\n      <th>is_pos</th>\n    </tr>\n  </thead>\n  <tbody>\n    <tr>\n      <th>0</th>\n      <td>1951</td>\n      <td>1</td>\n      <td>-0.74581</td>\n      <td>1</td>\n      <td>False</td>\n    </tr>\n    <tr>\n      <th>1</th>\n      <td>1951</td>\n      <td>2</td>\n      <td>-0.75763</td>\n      <td>2</td>\n      <td>False</td>\n    </tr>\n    <tr>\n      <th>2</th>\n      <td>1951</td>\n      <td>3</td>\n      <td>-0.60874</td>\n      <td>3</td>\n      <td>False</td>\n    </tr>\n    <tr>\n      <th>3</th>\n      <td>1951</td>\n      <td>4</td>\n      <td>-0.41773</td>\n      <td>4</td>\n      <td>False</td>\n    </tr>\n    <tr>\n      <th>4</th>\n      <td>1951</td>\n      <td>5</td>\n      <td>-0.28236</td>\n      <td>5</td>\n      <td>False</td>\n    </tr>\n    <tr>\n      <th>...</th>\n      <td>...</td>\n      <td>...</td>\n      <td>...</td>\n      <td>...</td>\n      <td>...</td>\n    </tr>\n    <tr>\n      <th>787</th>\n      <td>2016</td>\n      <td>8</td>\n      <td>-0.42398</td>\n      <td>788</td>\n      <td>False</td>\n    </tr>\n    <tr>\n      <th>788</th>\n      <td>2016</td>\n      <td>9</td>\n      <td>0.70726</td>\n      <td>789</td>\n      <td>True</td>\n    </tr>\n    <tr>\n      <th>789</th>\n      <td>2016</td>\n      <td>10</td>\n      <td>1.39290</td>\n      <td>790</td>\n      <td>True</td>\n    </tr>\n    <tr>\n      <th>790</th>\n      <td>2016</td>\n      <td>11</td>\n      <td>0.79214</td>\n      <td>791</td>\n      <td>True</td>\n    </tr>\n    <tr>\n      <th>791</th>\n      <td>2016</td>\n      <td>12</td>\n      <td>0.52813</td>\n      <td>792</td>\n      <td>True</td>\n    </tr>\n  </tbody>\n</table>\n<p>792 rows × 5 columns</p>\n</div>"
     },
     "execution_count": 20,
     "metadata": {},
     "output_type": "execute_result"
    }
   ],
   "source": [
    "ddf"
   ],
   "metadata": {
    "collapsed": false
   }
  },
  {
   "cell_type": "code",
   "execution_count": null,
   "outputs": [],
   "source": [],
   "metadata": {
    "collapsed": false
   }
  }
 ],
 "metadata": {
  "kernelspec": {
   "display_name": "Python 3",
   "language": "python",
   "name": "python3"
  },
  "language_info": {
   "codemirror_mode": {
    "name": "ipython",
    "version": 2
   },
   "file_extension": ".py",
   "mimetype": "text/x-python",
   "name": "python",
   "nbconvert_exporter": "python",
   "pygments_lexer": "ipython2",
   "version": "2.7.6"
  }
 },
 "nbformat": 4,
 "nbformat_minor": 0
}
