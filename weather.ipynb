{
 "cells": [
  {
   "cell_type": "code",
   "execution_count": null,
   "metadata": {
    "collapsed": true
   },
   "outputs": [],
   "source": [
    "from pathlib import Path\n",
    "import requests\n",
    "from PIL import Image\n",
    "from io import BytesIO\n",
    "\n",
    "import pandas as pd\n",
    "import numpy as np"
   ]
  },
  {
   "cell_type": "markdown",
   "metadata": {},
   "source": [
    "# Predicting droughts and weather from weather data\n",
    "The International Crops Research Institute for the Semi-Arid Tropics (ICRISAT) is an international organization which conducts agricultural research for rural development, headquartered in Hyderabad, Telangana, India.\n",
    "\n",
    "Founded in 1972 by a consortium of organisations convened by the Ford and the Rockefeller foundations, ICRISAT’s charter was signed by The Food and Agriculture Organization of the United Nations (FAO) and The United Nations Development Programme (UNDP).\n",
    "\n",
    "ICRISAT has been collecting detailed daily weather data in Hyderabad since 1978, and published a 40-year dataset of daily weather readings. I will use this dataset as the first dataset for my analysis.\n",
    "\n",
    "## Datasets\n",
    "1. ICRISAT daily weather dataset for 1978-2018, collected in Hyderabad.\n",
    "1. Integrated drought index data monthly dataset for 1951-2016, of Hyderabad.\n",
    "1. Qualitative indication of drought years for 1901-2009, of Telangana state, India.\n",
    "\n",
    "## Questions\n",
    "1. Which, if any, of the weather features collected by ICRISAT are related to each other?\n",
    "1. Which years had the highest average and median rainfall, humidity and radiation? Which periods had the lowest?\n",
    "1. Analyse the relationship between FAO56 ET (proxying crop yield) and other weather features.\n",
    "1. Can any of the weather features collected indicate or predict drought?"
   ],
   "outputs": []
  },
  {
   "cell_type": "markdown",
   "source": [
    "\n",
    "Firstly, I will write a function to load data from the Vocareum folder into a pandas DataFrame.\n",
    "\n",
    "The `load_data()` function also prints `DataFrame.info()`, `DataFrame.describe()` and `DataFrame.head()` to provide a sense of what the dataset contains."
   ],
   "metadata": {
    "collapsed": false
   }
  },
  {
   "cell_type": "code",
   "execution_count": null,
   "metadata": {},
   "outputs": [],
   "source": [
    "def load_data(file: Path, **kwargs):\n",
    "    '''\n",
    "    Wrapper function to\n",
    "        1. Loads data into a DataFrame, and\n",
    "        2. Prints df.info() and df.describe().\n",
    "    :param file: Path of file location\n",
    "    :param kwargs: kwargs to pass to pd.read_csv() or pd.read_excel()\n",
    "    :return: pd.DataFrame\n",
    "    '''\n",
    "    # reads data into df then and prints description and info\n",
    "    if 'xls' in file.suffix:\n",
    "        df = pd.read_excel(file, **kwargs)\n",
    "    elif 'csv' in file.suffix:\n",
    "        df = pd.read_csv(file, **kwargs)\n",
    "    else:\n",
    "        print(file.suffix)\n",
    "        raise NotImplementedError\n",
    "\n",
    "    print(f\"===== df.info output =====\")\n",
    "    df.info()\n",
    "    print(f\"\\n\\n===== df.describe output =====\\n\", df.describe())\n",
    "    print(\"\\n\\n===== df.head output =====\\n\", df.head())\n",
    "    return df"
   ]
  },
  {
   "cell_type": "markdown",
   "metadata": {},
   "source": [
    "## Loading ICRISAT weather data"
   ]
  },
  {
   "cell_type": "code",
   "execution_count": null,
   "metadata": {},
   "outputs": [],
   "source": [
    "cwd = Path.cwd()  # reads current working directory to simplify working with files\n",
    "weather_df = load_data(cwd / \"data\" / \"ICRISAT Weather 1978 to 2018.xlsx\")"
   ]
  },
  {
   "cell_type": "markdown",
   "metadata": {},
   "source": [
    "## ICRISAT weather fields\n",
    "The ICRISAT data includes the following fields:\n",
    "\n",
    "| #  | Column Name        | Description                                   |\n",
    "|--- |:-------------------|:----------------------------------------------|\n",
    "| 0  | Station            | Single value \"ICRISAT\"                        |\n",
    "| 1  | Date               | Date of collection of weather data            |\n",
    "| 2  | MaxT               | Maximum temperature (°C)                      |\n",
    "| 3  | MinT               | Minimum temperature (°C)                      |\n",
    "| 4  | RH1                | Relative humidity in the morning (%)          |\n",
    "| 5  | RH2                | Relative humidity in the afternoon (%)        |\n",
    "| 6  | Wind               | Wind (km/h)                                   |\n",
    "| 7  | Rain               | Rain (mm)                                     |\n",
    "| 8  | SSH                | Bright sunshine (hour)                        |\n",
    "| 9  | Evap               | Evaporation (mm)                              |\n",
    "| 10 | Radiation          | Radiation (mm/hour)                           |\n",
    "| 11 | FAO56<sub>ET</sub> | FAO 56 reference crop evapotranspiration (mm) |\n",
    "| 12 | Lat                | Latitude of collection point                  |\n",
    "| 13 | Lon                | Longitude of collection point                 |\n",
    "| 14 | Cum<sub>Rain</sub> | Cumulative monthly rainfall (mm)              |\n"
   ]
  },
  {
   "cell_type": "code",
   "execution_count": null,
   "metadata": {},
   "outputs": [],
   "source": [
    "drought_df = load_data(cwd / \"data\" / \"data_17.625_78.375.csv\", header=None,\n",
    "                       delim_whitespace=True, names=['year', 'month', 'idi'])"
   ]
  },
  {
   "cell_type": "code",
   "execution_count": null,
   "metadata": {},
   "outputs": [],
   "source": [
    "ddf = (drought_df\n",
    "       .assign(change_sign=lambda x: np.sign(x.idi).diff().ne(0),\n",
    "               is_pos=lambda x: x.idi.gt(0),\n",
    "               ds=lambda x: x.idi.gt(0).astype(int).replace(0, -1),\n",
    "               days=lambda x: abs(x.groupby((x.ds != x.ds.shift()).cumsum()).cumsum().loc[:, 'ds'])\n",
    "               )\n",
    "       .drop(columns=['ds', 'change_sign'], axis=1)\n",
    "       )"
   ]
  },
  {
   "cell_type": "code",
   "execution_count": null,
   "metadata": {},
   "outputs": [],
   "source": [
    "ddf"
   ]
  }
 ],
 "metadata": {
  "kernelspec": {
   "display_name": "Python 3 (ipykernel)",
   "language": "python",
   "name": "python3"
  },
  "language_info": {
   "codemirror_mode": {
    "name": "ipython",
    "version": 3
   },
   "file_extension": ".py",
   "mimetype": "text/x-python",
   "name": "python",
   "nbconvert_exporter": "python",
   "pygments_lexer": "ipython3",
   "version": "3.10.5"
  }
 },
 "nbformat": 4,
 "nbformat_minor": 1
}
