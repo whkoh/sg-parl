{
 "cells": [
  {
   "cell_type": "code",
   "execution_count": null,
   "metadata": {
    "collapsed": true
   },
   "outputs": [],
   "source": [
    "from pathlib import Path\n",
    "\n",
    "import pandas as pd\n",
    "import numpy as np\n",
    "import plotly.express as px\n",
    "import plotly.graph_objects as go\n",
    "import seaborn as sn\n",
    "import matplotlib.pyplot as plt\n",
    "from sklearn.model_selection import train_test_split\n",
    "from sklearn.linear_model import LogisticRegression\n",
    "from sklearn.ensemble import RandomForestClassifier\n",
    "from sklearn import metrics\n",
    "from sklearn.preprocessing import StandardScaler"
   ]
  },
  {
   "cell_type": "markdown",
   "metadata": {},
   "source": [
    "# Predicting droughts and weather from weather data\n",
    "The International Crops Research Institute for the Semi-Arid Tropics (ICRISAT) is an international organization which conducts agricultural research for rural development, headquartered in Hyderabad, Telangana, India.\n",
    "\n",
    "Founded in 1972 by a consortium of organisations convened by the Ford and the Rockefeller foundations, ICRISAT’s charter was signed by The Food and Agriculture Organization of the United Nations (FAO) and The United Nations Development Programme (UNDP).\n",
    "\n",
    "ICRISAT has been collecting detailed daily weather data in Hyderabad since 1978, and published a 40-year dataset of daily weather readings. I will use this dataset as the first dataset for my analysis.\n",
    "\n",
    "## Datasets\n",
    "1. ICRISAT daily weather dataset for 1978-2018, collected in Hyderabad.\n",
    "1. Integrated drought index data monthly dataset for 1951-2016, of Hyderabad.\n",
    "\n",
    "## Questions\n",
    "1. Which, if any, of the weather features collected by ICRISAT appear to be correlated with each other?\n",
    "1. Which months had the highest mean and median rainfall, humidity and radiation? Which months had the lowest?\n",
    "1. Can the weather features collected indicate or predict drought using a model?"
   ]
  },
  {
   "cell_type": "markdown",
   "metadata": {},
   "source": [
    "\n",
    "Firstly, I will write a function to load data from the Vocareum folder into a pandas DataFrame.\n",
    "\n",
    "The `load_data()` function also prints `DataFrame.info()`, `DataFrame.describe()` and `DataFrame.head()` to provide a sense of what the dataset contains."
   ]
  },
  {
   "cell_type": "code",
   "execution_count": null,
   "metadata": {
    "collapsed": true
   },
   "outputs": [],
   "source": [
    "def load_data(file: Path, **kwargs):\n",
    "    '''\n",
    "    Wrapper function to\n",
    "        1. Loads data into a DataFrame, and\n",
    "        2. Prints df.info() and df.describe().\n",
    "    :param file: Path of file location\n",
    "    :param kwargs: kwargs to pass to pd.read_csv() or pd.read_excel()\n",
    "    :return: pd.DataFrame\n",
    "    '''\n",
    "    # reads data into df then and prints description and info\n",
    "    if 'xls' in file.suffix:\n",
    "        df = pd.read_excel(file, **kwargs)\n",
    "    elif 'csv' in file.suffix:\n",
    "        df = pd.read_csv(file, **kwargs)\n",
    "    else:\n",
    "        print(file.suffix)\n",
    "        raise NotImplementedError\n",
    "\n",
    "    print(f\"===== df.info output =====\")\n",
    "    df.info()\n",
    "    print(f\"\\n\\n===== df.describe output =====\\n\", df.describe())\n",
    "    print(\"\\n\\n===== df.head output =====\\n\", df.head())\n",
    "    return df"
   ]
  },
  {
   "cell_type": "markdown",
   "metadata": {},
   "source": [
    "## Dataset: ICRISAT weather observations"
   ]
  },
  {
   "cell_type": "code",
   "execution_count": null,
   "metadata": {},
   "outputs": [],
   "source": [
    "cwd = Path.cwd()  # reads current working directory to simplify working with files\n",
    "weather_df = load_data(cwd / \"data\" / \"ICRISAT Weather 1978 to 2018.xlsx\")"
   ]
  },
  {
   "cell_type": "markdown",
   "metadata": {},
   "source": [
    "### Dataset: ICRISAT - fields\n",
    "The ICRISAT data is at the day level and includes the following fields:\n",
    "\n",
    "| #   | Column Name        | Description                                   |\n",
    "|-----|:-------------------|:----------------------------------------------|\n",
    "| 0   | Station            | Single value \"ICRISAT\"                        |\n",
    "| 1   | Date               | Date of collection of weather data            |\n",
    "| 2   | MaxT               | Maximum temperature (°C)                      |\n",
    "| 3   | MinT               | Minimum temperature (°C)                      |\n",
    "| 4   | RH1                | Relative humidity in the morning (%)          |\n",
    "| 5   | RH2                | Relative humidity in the afternoon (%)        |\n",
    "| 6   | Wind               | Wind (km/h)                                   |\n",
    "| 7   | Rain               | Rain (mm)                                     |\n",
    "| 8   | SSH                | Bright sunshine (hour)                        |\n",
    "| 9   | Evap               | Evaporation (mm)                              |\n",
    "| 10  | Radiation          | Radiation (mm/hour)                           |\n",
    "| 11  | FAO56<sub>ET</sub> | FAO 56 reference crop evapotranspiration (mm) |\n",
    "| 12  | Lat                | Latitude of collection point                  |\n",
    "| 13  | Lon                | Longitude of collection point                 |\n",
    "| 14  | Cum<sub>Rain</sub> | Cumulative monthly rainfall (mm)              |\n"
   ]
  },
  {
   "cell_type": "markdown",
   "metadata": {},
   "source": [
    "### Dataset: ICRISAT - Preview of data"
   ]
  },
  {
   "cell_type": "code",
   "execution_count": null,
   "metadata": {},
   "outputs": [],
   "source": [
    "weather_df.sample(10, random_state=42).sort_index()"
   ]
  },
  {
   "cell_type": "markdown",
   "metadata": {},
   "source": [
    "### Dataset: ICRISAT - location of station\n",
    "The coordinates of the ICRISAT research station are at:"
   ]
  },
  {
   "cell_type": "code",
   "execution_count": null,
   "metadata": {},
   "outputs": [],
   "source": [
    "coordinates = (weather_df.loc[0, 'Lat'], weather_df.loc[0, 'Lon'])\n",
    "coordinates"
   ]
  },
  {
   "cell_type": "markdown",
   "metadata": {},
   "source": [
    "Let's visualise this location on a map:"
   ]
  },
  {
   "cell_type": "code",
   "execution_count": null,
   "metadata": {},
   "outputs": [],
   "source": [
    "try:\n",
    "    fig = go.Figure(px.scatter_mapbox(weather_df, lat='Lat', lon='Lon', mapbox_style='open-street-map'))\n",
    "    fig.show()\n",
    "except SyntaxError:\n",
    "    from IPython.display import Image\n",
    "    Image(cwd / \"data\" / \"fallback-image-icrisat.jpg\")"
   ]
  },
  {
   "cell_type": "markdown",
   "metadata": {},
   "source": [
    "## Dataset: Integrated Drought Index (IDI)\n",
    "\n",
    "Drought is a multifaceted weather phenomenon and can be characterised as meteorological, agricultural, hydrological, and groundwater droughts.\n",
    "\n",
    "A drought index can be used to characterize drought, typically using gridded maps at regional and national levels. These indices help to characterise the different types of drought and quantify severity levels as well as onset and termination of drought.\n",
    "\n",
    "The Integrated Drought Index (IDI) dataset is a drought index developed by Shah & Mishra (2020) that integrates the effects of these types of droughts into a single indicator.\n",
    "\n",
    "Shah & Mishra (2020) has published monthly IDI from their study in 0.25° grids. The closest grid to the ICRISAT station was selected and read below into `drought_df`."
   ]
  },
  {
   "cell_type": "code",
   "execution_count": null,
   "metadata": {},
   "outputs": [],
   "source": [
    "drought_df = load_data(cwd / \"data\" / \"data_17.625_78.375.csv\", header=None,\n",
    "                       delim_whitespace=True, names=['year', 'month', 'idi'])"
   ]
  },
  {
   "cell_type": "markdown",
   "metadata": {},
   "source": [
    "## Dataset: IDI - fields\n",
    "\n",
    "The IDI data is at the month level and includes the following fields:\n",
    "\n",
    "| #   | Column Name | Description                            |\n",
    "|-----|:------------|:---------------------------------------|\n",
    "| 0   | Year        | Year                                   |\n",
    "| 1   | Month       | Month                                  |\n",
    "| 2   | IDI         | Integrated Drought Index - index value |"
   ]
  },
  {
   "cell_type": "markdown",
   "metadata": {},
   "source": [
    "## Dataset: IDI - Preview of data"
   ]
  },
  {
   "cell_type": "code",
   "execution_count": null,
   "metadata": {},
   "outputs": [],
   "source": [
    "drought_df.sample(10, random_state=42).sort_index()"
   ]
  },
  {
   "cell_type": "markdown",
   "metadata": {},
   "source": [
    "# Question 1\n",
    ">Which, if any, of the weather features collected by ICRISAT are related to each other?\n",
    "\n",
    "To answer this, I will show a correlation matrix of the ICRISAT dataset.\n",
    "\n",
    "This can be done directly in a pandas dataframe with `DataFrame.corr()`. To increase visual understanding, I will plot it with a `seaborn` heatmap."
   ]
  },
  {
   "cell_type": "code",
   "execution_count": null,
   "metadata": {},
   "outputs": [],
   "source": [
    "sn.heatmap(weather_df.corr(), annot=True)\n",
    "plt.show()"
   ]
  },
  {
   "cell_type": "markdown",
   "metadata": {},
   "source": [
    "I will also query the correlation matrix directly to obtain descriptive statistics, and the top five correlated pairs of variables."
   ]
  },
  {
   "cell_type": "code",
   "execution_count": null,
   "metadata": {},
   "outputs": [],
   "source": [
    "corr_matrix = (weather_df\n",
    "               .corr()\n",
    "               .stack()\n",
    "               .reset_index()\n",
    "               .rename(columns={'level_0': 'var1', 'level_1': 'var2', 0: 'value'})\n",
    "               .query(\"var1 != var2 and var1 < var2\")\n",
    "               )\n",
    "\n",
    "corr_matrix.describe()"
   ]
  },
  {
   "cell_type": "code",
   "execution_count": null,
   "metadata": {},
   "outputs": [],
   "source": [
    "(corr_matrix\n",
    " .sort_values(by='value', ascending=False)\n",
    " .head(5)\n",
    " .reset_index(drop=True)\n",
    " )"
   ]
  },
  {
   "cell_type": "markdown",
   "metadata": {},
   "source": [
    "## Question 1 - results\n",
    "\n",
    "Most variables of the ICRISAT dataset are not highly correlated with each other.\n",
    "\n",
    "The top 5 pairs of variables that exhibit correlation are:\n",
    "1. Evaporation (mm) and FAO 56 reference crop evapotranspiration (mm)\n",
    "2. Evaporation (mm) and Maximum temperature (°C)\n",
    "3. FAO 56 reference crop evapotranspiration (mm) and Maximum temperature (°C)\n",
    "4. FAO 56 reference crop evapotranspiration (mm) and Radiation (mm/hour)\n",
    "5. Radiation (mm/hour) and Bright sunshine (hour)"
   ]
  },
  {
   "cell_type": "markdown",
   "metadata": {},
   "source": [
    "# Question 2\n",
    "> Which months had the highest average and median rainfall, humidity and radiation? Which months had the lowest?\n",
    "\n",
    "First, I create two other dataframes aggregated with mean and median."
   ]
  },
  {
   "cell_type": "code",
   "execution_count": null,
   "metadata": {
    "collapsed": true
   },
   "outputs": [],
   "source": [
    "weather_df_monthly_mean = (weather_df\n",
    "                           .resample('M', on='Date').mean()\n",
    "                           .reset_index()\n",
    "                           .rename(columns={'Date': 'Month'})\n",
    "                           )\n",
    "\n",
    "weather_df_monthly_median = (weather_df\n",
    "                             .resample('M', on='Date').median()\n",
    "                             .reset_index()\n",
    "                             .rename(columns={'Date': 'Month'})\n",
    "                             )"
   ]
  },
  {
   "cell_type": "markdown",
   "metadata": {},
   "source": [
    "Firstly, create some convenience functions to print the highest and lowest values and months.\n",
    "\n",
    "If multiple months exist with the same highest or lowest value, the first month will be printed."
   ]
  },
  {
   "cell_type": "code",
   "execution_count": null,
   "metadata": {
    "collapsed": true
   },
   "outputs": [],
   "source": [
    "def print_weather_stats(agg_type, weather_var):\n",
    "    '''\n",
    "    Prints weather stats from `weather_df`\n",
    "    :param agg_type: accepts either 'mean' or 'median'\n",
    "    :param weather_var: accepts a column in `weather_df` with weather statistics.\n",
    "    :return: None\n",
    "    '''\n",
    "    dict_agg_type = {'mean': weather_df_monthly_mean, 'median': weather_df_monthly_median}\n",
    "    _a, _b = dict_agg_type.get(agg_type).loc[dict_agg_type.get(agg_type)[weather_var].idxmax(), ['Month', weather_var]]\n",
    "    print(f\"{_a:%B %Y} had the {agg_type} highest {weather_var} of {_b:.2f}.\")\n",
    "    _c, _d = dict_agg_type.get(agg_type).loc[dict_agg_type.get(agg_type)[weather_var].idxmin(), ['Month', weather_var]]\n",
    "    print(f\"{_c:%B %Y} had the {agg_type} lowest {weather_var} of {_d:.2f}.\")\n",
    "    return"
   ]
  },
  {
   "cell_type": "markdown",
   "metadata": {},
   "source": [
    "## Question 2 - results\n",
    "### Rainfall"
   ]
  },
  {
   "cell_type": "code",
   "execution_count": null,
   "metadata": {},
   "outputs": [],
   "source": [
    "print_weather_stats('median', 'Rain')\n",
    "print_weather_stats('mean', 'Rain')"
   ]
  },
  {
   "cell_type": "markdown",
   "metadata": {},
   "source": [
    "### Humidity"
   ]
  },
  {
   "cell_type": "code",
   "execution_count": null,
   "metadata": {},
   "outputs": [],
   "source": [
    "print_weather_stats('median', 'RH1')\n",
    "print_weather_stats('mean', 'RH1')"
   ]
  },
  {
   "cell_type": "markdown",
   "metadata": {},
   "source": [
    "### Radiation"
   ]
  },
  {
   "cell_type": "code",
   "execution_count": null,
   "metadata": {},
   "outputs": [],
   "source": [
    "print_weather_stats('median', 'Radiation')\n",
    "print_weather_stats('mean', 'Radiation')"
   ]
  },
  {
   "cell_type": "markdown",
   "metadata": {},
   "source": [
    "# Question 3\n",
    "> Can the weather features collected indicate or predict drought using a model?\n",
    "\n",
    "It will be interesting to see whether ICRISAT weather data can be used to predict droughts.\n",
    "\n",
    "First, I will do some exploratory data analysis on the features exhibiting correlation.\n",
    "\n",
    "As seen below, there is high variability and seasonality in the weather data collected."
   ]
  },
  {
   "cell_type": "code",
   "execution_count": null,
   "metadata": {},
   "outputs": [],
   "source": [
    "px.line(weather_df, x='Date', y='Evap', title='Evaporation (mm) over time')"
   ]
  },
  {
   "cell_type": "code",
   "execution_count": null,
   "metadata": {},
   "outputs": [],
   "source": [
    "px.line(weather_df, x='Date', y='FAO56_ET', title='FAO 56 reference crop evapotranspiration (mm) over time')"
   ]
  },
  {
   "cell_type": "code",
   "execution_count": null,
   "metadata": {},
   "outputs": [],
   "source": [
    "px.line(weather_df, x='Date', y='MaxT', title='Max temperature (°C) over time')"
   ]
  },
  {
   "cell_type": "code",
   "execution_count": null,
   "metadata": {},
   "outputs": [],
   "source": [
    "px.line(weather_df, x='Date', y='Radiation', title='Radiation (mm/hour) over time')"
   ]
  },
  {
   "cell_type": "code",
   "execution_count": null,
   "metadata": {},
   "outputs": [],
   "source": [
    "px.line(weather_df, x='Date', y='SSH', title='Bright sunshine (hour) over time')"
   ]
  },
  {
   "cell_type": "markdown",
   "metadata": {},
   "source": [
    "As `weather_df` and `drought_df` are at different granularity, I will now resample `drought_df` to the daily granularity.\n",
    "\n",
    "This maintains the daily data in `weather_df`."
   ]
  },
  {
   "cell_type": "code",
   "execution_count": null,
   "metadata": {
    "collapsed": true
   },
   "outputs": [],
   "source": [
    "# first, make timestamps from the year and month columns\n",
    "drought_df_daily = (drought_df\n",
    "                    .astype({'year': str, 'month': str})\n",
    "                    .assign(ym=lambda x: x.year + x.month.str.pad(2, side='left', fillchar='0') + '01',\n",
    "                            ds=lambda x: pd.to_datetime(x.ym, format='%Y%m%d')\n",
    "                            )\n",
    "                    .set_index('ds')\n",
    "                    )"
   ]
  },
  {
   "cell_type": "code",
   "execution_count": null,
   "metadata": {},
   "outputs": [],
   "source": [
    "# next, upsample monthly data to daily, using method described\n",
    "# in https://stackoverflow.com/questions/29612705/converting-pandas-dataframe-from-monthly-to-daily\n",
    "start_date = drought_df_daily.index.min() - pd.DateOffset(day=1)\n",
    "end_date = drought_df_daily.index.max() + pd.DateOffset(day=31)\n",
    "dates = pd.date_range(start_date, end_date, freq='D')\n",
    "dates.name = 'Date'\n",
    "drought_df_daily = (drought_df_daily\n",
    "                    .reindex(dates, method='ffill')\n",
    "                    .reset_index()\n",
    "                    .drop(['year', 'month', 'ym'], axis=1)\n",
    "                    )\n",
    "drought_df_daily.sample(12, random_state=42)"
   ]
  },
  {
   "cell_type": "markdown",
   "metadata": {},
   "source": [
    "The resampled IDI dataframe (`drought_df_daily`) is then merged with the `weather_df` dataframe.\n",
    "\n",
    "Following Shah & Mishra (2020), IDI index values of less than -0.8 are indicated as `True`, _i.e._,  drought, in the merged dataframe."
   ]
  },
  {
   "cell_type": "code",
   "execution_count": null,
   "metadata": {
    "collapsed": true
   },
   "outputs": [],
   "source": [
    "# then, merge weather_df with drought_df_daily and create a new boolean feature `is_drought`\n",
    "# `is_drought` indicates a drought condition if `idi` < -0.8\n",
    "weather_idi_df = (weather_df\n",
    "                  .merge(drought_df_daily, on='Date')\n",
    "                  .assign(is_drought = lambda x: x.idi < -0.8)\n",
    "                  .drop(['Station', 'Lat', 'Lon', 'idi'], axis=1)\n",
    "                  )"
   ]
  },
  {
   "cell_type": "markdown",
   "metadata": {},
   "source": [
    "Sample of merged `weather_idi_df` dataframe:"
   ]
  },
  {
   "cell_type": "code",
   "execution_count": null,
   "metadata": {},
   "outputs": [],
   "source": [
    "weather_idi_df.sample(10, random_state=42)"
   ]
  },
  {
   "cell_type": "markdown",
   "metadata": {},
   "source": [
    "## Setting up test and train datasets"
   ]
  },
  {
   "cell_type": "markdown",
   "metadata": {},
   "source": [
    "To begin training the models, I first split `weather_idi_df` into: \n",
    "\n",
    "* a `X` dataframe (dropping `Date` and target variable) and\n",
    "* a `y` series (which only contains the target).\n",
    "\n",
    "Then, `X` and `y` are each split into test and train datasets."
   ]
  },
  {
   "cell_type": "code",
   "execution_count": null,
   "metadata": {
    "collapsed": true
   },
   "outputs": [],
   "source": [
    "X, Y = weather_idi_df.drop(['is_drought', 'Date'], axis=1), weather_idi_df['is_drought']\n",
    "X_train, X_test, y_train, y_test = train_test_split(X, Y, test_size=0.20, random_state=42)"
   ]
  },
  {
   "cell_type": "code",
   "execution_count": null,
   "metadata": {},
   "outputs": [],
   "source": [
    "# Inspecting shapes\n",
    "for ds in [X_train, X_test, y_train, y_test]:\n",
    "    print(ds.shape)"
   ]
  },
  {
   "cell_type": "markdown",
   "metadata": {},
   "source": [
    "## Random Forest model"
   ]
  },
  {
   "cell_type": "code",
   "execution_count": null,
   "metadata": {},
   "outputs": [],
   "source": [
    "rf_model = RandomForestClassifier(n_estimators=100, oob_score=True)\n",
    "rf_model.fit(X_train.values, y_train)"
   ]
  },
  {
   "cell_type": "markdown",
   "metadata": {
    "collapsed": true
   },
   "source": [
    "### Random Forest model metrics"
   ]
  },
  {
   "cell_type": "code",
   "execution_count": null,
   "metadata": {},
   "outputs": [],
   "source": [
    "print(f\"Random Forest OOB score = {rf_model.oob_score_:.5f}\")"
   ]
  },
  {
   "cell_type": "code",
   "execution_count": null,
   "metadata": {},
   "outputs": [],
   "source": [
    "print(f\"Random Forest model score = {rf_model.score(X_test.values, y_test):.5f}\")"
   ]
  },
  {
   "cell_type": "code",
   "execution_count": null,
   "metadata": {},
   "outputs": [],
   "source": [
    "y_probs = rf_model.predict_proba(X_test.values)[:,1]\n",
    "print(f\"Random Forest model ROC AUC score = {metrics.roc_auc_score(y_test, y_probs):.5f}\")"
   ]
  },
  {
   "cell_type": "markdown",
   "metadata": {},
   "source": [
    "## Logistic Regression model"
   ]
  },
  {
   "cell_type": "code",
   "execution_count": null,
   "metadata": {},
   "outputs": [],
   "source": [
    "scaler = StandardScaler()\n",
    "X_train_scaled, X_test_scaled = scaler.fit_transform(X_train), scaler.fit_transform(X_test)\n",
    "est = LogisticRegression(solver='liblinear', max_iter=100)\n",
    "\n",
    "est.fit(X_train, y_train)"
   ]
  },
  {
   "cell_type": "markdown",
   "metadata": {},
   "source": [
    "### Logistic Regression model metrics"
   ]
  },
  {
   "cell_type": "code",
   "execution_count": null,
   "metadata": {},
   "outputs": [],
   "source": [
    "print(f\"Logistic regression score on test dataset = {est.score(X_test, y_test):.5f}\")"
   ]
  },
  {
   "cell_type": "code",
   "execution_count": null,
   "metadata": {},
   "outputs": [],
   "source": [
    "print(f\"Logistic regression score on train dataset = {est.score(X_train, y_train):.5f}\")"
   ]
  },
  {
   "cell_type": "markdown",
   "metadata": {
    "collapsed": true
   },
   "source": [
    "### Question 3 - conclusion"
   ]
  },
  {
   "cell_type": "markdown",
   "metadata": {},
   "source": [
    "Conclusion: the weather features collected by ICRISAT can predict drought with the Random Forest and Logistic Regression models.\n",
    "\n",
    "For the Random Forest model, the metrics of OOB score, model score and ROC AUC score all exceed 86%, indicating that Random Forest **can** serve to predict drought conditions accurately using observed weather data in the ICRISAT weather dataset.\n",
    "\n",
    "For the Logistic Regression model, the scores on both train and test dataset are close at 0.785-0.787. While lower than the scores for the Random Forest model, both scores are close together which also indicates that the logistic regression model **can** also produce good predictions using data from the ICRISAT weather dataset."
   ]
  },
  {
   "cell_type": "markdown",
   "metadata": {},
   "source": [
    "## Further analysis\n",
    "The following can be further analysed in a future study:\n",
    "\n",
    "1. While the above used a simple indicator of drought, can other indicators of drought also be studied, e.g. a more complex indicator can be built, e.g. of _x_ months of IDI remaining below 0?\n",
    "1. Instead of using daily weather data, can an aggregated IDI also be used at the month level?\n",
    "1. On top of meteorological drought, can other forms of drought e.g. hydrological and groundwater droughts be studied using other datasets?\n",
    "1. Can other statistical or machine learning models be used to model and predict droughts?"
   ]
  }
 ],
 "metadata": {
  "kernelspec": {
   "display_name": "Python 3 [3.7]",
   "language": "python",
   "name": "python3"
  },
  "language_info": {
   "codemirror_mode": {
    "name": "ipython",
    "version": 3
   },
   "file_extension": ".py",
   "mimetype": "text/x-python",
   "name": "python",
   "nbconvert_exporter": "python",
   "pygments_lexer": "ipython3",
   "version": "3.7.5"
  }
 },
 "nbformat": 4,
 "nbformat_minor": 1
}
