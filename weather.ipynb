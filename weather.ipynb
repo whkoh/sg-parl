{
 "cells": [
  {
   "cell_type": "code",
   "execution_count": null,
   "metadata": {},
   "outputs": [],
   "source": [
    "from pathlib import Path\n",
    "import requests\n",
    "from PIL import Image\n",
    "from io import BytesIO\n",
    "\n",
    "import pandas as pd\n",
    "import numpy as np\n",
    "import plotly.express as px\n",
    "import seaborn as sn\n",
    "import matplotlib.pyplot as plt"
   ]
  },
  {
   "cell_type": "markdown",
   "metadata": {},
   "source": [
    "# Predicting droughts and weather from weather data\n",
    "The International Crops Research Institute for the Semi-Arid Tropics (ICRISAT) is an international organization which conducts agricultural research for rural development, headquartered in Hyderabad, Telangana, India.\n",
    "\n",
    "Founded in 1972 by a consortium of organisations convened by the Ford and the Rockefeller foundations, ICRISAT’s charter was signed by The Food and Agriculture Organization of the United Nations (FAO) and The United Nations Development Programme (UNDP).\n",
    "\n",
    "ICRISAT has been collecting detailed daily weather data in Hyderabad since 1978, and published a 40-year dataset of daily weather readings. I will use this dataset as the first dataset for my analysis.\n",
    "\n",
    "## Datasets\n",
    "1. ICRISAT daily weather dataset for 1978-2018, collected in Hyderabad.\n",
    "1. Integrated drought index data monthly dataset for 1951-2016, of Hyderabad.\n",
    "1. Qualitative indication of drought years for 1901-2009, of Telangana state, India.\n",
    "\n",
    "## Questions\n",
    "1. Which, if any, of the weather features collected by ICRISAT appear to be correlated with each other?\n",
    "1. Which months had the highest mean and median rainfall, humidity and radiation? Which months had the lowest?\n",
    "1. Analyse the relationship between FAO56 ET (proxying crop yield) and other weather features.\n",
    "1. Can any of the weather features collected indicate or predict drought?"
   ]
  },
  {
   "cell_type": "markdown",
   "metadata": {},
   "source": [
    "\n",
    "Firstly, I will write a function to load data from the Vocareum folder into a pandas DataFrame.\n",
    "\n",
    "The `load_data()` function also prints `DataFrame.info()`, `DataFrame.describe()` and `DataFrame.head()` to provide a sense of what the dataset contains."
   ]
  },
  {
   "cell_type": "code",
   "execution_count": null,
   "metadata": {},
   "outputs": [],
   "source": [
    "def load_data(file: Path, **kwargs):\n",
    "    '''\n",
    "    Wrapper function to\n",
    "        1. Loads data into a DataFrame, and\n",
    "        2. Prints df.info() and df.describe().\n",
    "    :param file: Path of file location\n",
    "    :param kwargs: kwargs to pass to pd.read_csv() or pd.read_excel()\n",
    "    :return: pd.DataFrame\n",
    "    '''\n",
    "    # reads data into df then and prints description and info\n",
    "    if 'xls' in file.suffix:\n",
    "        df = pd.read_excel(file, **kwargs)\n",
    "    elif 'csv' in file.suffix:\n",
    "        df = pd.read_csv(file, **kwargs)\n",
    "    else:\n",
    "        print(file.suffix)\n",
    "        raise NotImplementedError\n",
    "\n",
    "    print(f\"===== df.info output =====\")\n",
    "    df.info()\n",
    "    print(f\"\\n\\n===== df.describe output =====\\n\", df.describe())\n",
    "    print(\"\\n\\n===== df.head output =====\\n\", df.head())\n",
    "    return df"
   ]
  },
  {
   "cell_type": "markdown",
   "metadata": {},
   "source": [
    "## Dataset: ICRISAT weather observations"
   ]
  },
  {
   "cell_type": "code",
   "execution_count": null,
   "metadata": {},
   "outputs": [],
   "source": [
    "cwd = Path.cwd()  # reads current working directory to simplify working with files\n",
    "weather_df = load_data(cwd / \"data\" / \"ICRISAT Weather 1978 to 2018.xlsx\")"
   ]
  },
  {
   "cell_type": "markdown",
   "metadata": {},
   "source": [
    "### Dataset: ICRISAT - fields\n",
    "The ICRISAT data is at the day level and includes the following fields:\n",
    "\n",
    "| #   | Column Name        | Description                                   |\n",
    "|-----|:-------------------|:----------------------------------------------|\n",
    "| 0   | Station            | Single value \"ICRISAT\"                        |\n",
    "| 1   | Date               | Date of collection of weather data            |\n",
    "| 2   | MaxT               | Maximum temperature (°C)                      |\n",
    "| 3   | MinT               | Minimum temperature (°C)                      |\n",
    "| 4   | RH1                | Relative humidity in the morning (%)          |\n",
    "| 5   | RH2                | Relative humidity in the afternoon (%)        |\n",
    "| 6   | Wind               | Wind (km/h)                                   |\n",
    "| 7   | Rain               | Rain (mm)                                     |\n",
    "| 8   | SSH                | Bright sunshine (hour)                        |\n",
    "| 9   | Evap               | Evaporation (mm)                              |\n",
    "| 10  | Radiation          | Radiation (mm/hour)                           |\n",
    "| 11  | FAO56<sub>ET</sub> | FAO 56 reference crop evapotranspiration (mm) |\n",
    "| 12  | Lat                | Latitude of collection point                  |\n",
    "| 13  | Lon                | Longitude of collection point                 |\n",
    "| 14  | Cum<sub>Rain</sub> | Cumulative monthly rainfall (mm)              |\n"
   ]
  },
  {
   "cell_type": "markdown",
   "metadata": {},
   "source": [
    "### Dataset: ICRISAT - Preview of data"
   ],
   "outputs": []
  },
  {
   "cell_type": "code",
   "execution_count": null,
   "outputs": [],
   "source": [
    "weather_df.sample(10, random_state=42).sort_index()"
   ],
   "metadata": {
    "collapsed": false
   }
  },
  {
   "cell_type": "markdown",
   "source": [
    "### Dataset: ICRISAT - location of station\n",
    "The coordinates of the ICRISAT research station are at:"
   ],
   "metadata": {
    "collapsed": false
   }
  },
  {
   "cell_type": "code",
   "execution_count": null,
   "metadata": {},
   "outputs": [],
   "source": [
    "coordinates = (weather_df.loc[0, 'Lat'], weather_df.loc[0, 'Lon'])\n",
    "coordinates"
   ]
  },
  {
   "cell_type": "markdown",
   "metadata": {},
   "source": [
    "Let's visualise this location on a map:"
   ]
  },
  {
   "cell_type": "code",
   "execution_count": null,
   "metadata": {},
   "outputs": [],
   "source": [
    "px.scatter_mapbox(weather_df, lat='Lat', lon='Lon', mapbox_style='open-street-map')"
   ]
  },
  {
   "cell_type": "markdown",
   "source": [
    "## Dataset: Integrated Drought Index (IDI)\n",
    "\n",
    "Drought is a multifaceted weather phenomenon and can be characterised as meteorological, agricultural, hydrological, and groundwater droughts.\n",
    "\n",
    "A drought index can be used to characterize drought, typically using gridded maps at regional and national levels. These indices help to characterise the different types of drought and quantify severity levels as well as onset and termination of drought.\n",
    "\n",
    "The Integrated Drought Index (IDI) dataset is a drought index developed by Shah & Mishra (2020) that integrates the effects of these types of droughts into a single indicator.\n",
    "\n",
    "Shah & Mishra (2020) has published monthly IDI from their study in 0.25° grids. The closest grid to the ICRISAT station was selected and read below into `drought_df`."
   ],
   "metadata": {
    "collapsed": false
   }
  },
  {
   "cell_type": "code",
   "execution_count": null,
   "metadata": {},
   "outputs": [],
   "source": [
    "drought_df = load_data(cwd / \"data\" / \"data_17.625_78.375.csv\", header=None,\n",
    "                       delim_whitespace=True, names=['year', 'month', 'idi'])"
   ]
  },
  {
   "cell_type": "markdown",
   "metadata": {},
   "source": [
    "## Dataset: IDI - fields\n",
    "\n",
    "The IDI data is at the month level and includes the following fields:\n",
    "\n",
    "| #   | Column Name | Description                            |\n",
    "|-----|:------------|:---------------------------------------|\n",
    "| 0   | Year        | Year                                   |\n",
    "| 1   | Month       | Month                                  |\n",
    "| 2   | IDI         | Integrated Drought Index - index value |"
   ],
   "outputs": []
  },
  {
   "cell_type": "markdown",
   "source": [
    "## Dataset: IDI - Preview of data"
   ],
   "metadata": {
    "collapsed": false
   },
   "outputs": []
  },
  {
   "cell_type": "code",
   "execution_count": null,
   "outputs": [],
   "source": [
    "drought_df.sample(10, random_state=42).sort_index()"
   ],
   "metadata": {
    "collapsed": false
   }
  },
  {
   "cell_type": "markdown",
   "source": [
    "# Question 1\n",
    ">Which, if any, of the weather features collected by ICRISAT are related to each other?\n",
    "\n",
    "To answer this, I will show a correlation matrix of the ICRISAT dataset.\n",
    "\n",
    "This can be done directly in a pandas dataframe with `DataFrame.corr()`. To increase visual understanding, I will plot it with a `seaborn` heatmap."
   ],
   "metadata": {
    "collapsed": false
   }
  },
  {
   "cell_type": "code",
   "execution_count": null,
   "outputs": [],
   "source": [
    "sn.heatmap(weather_df.corr(), annot=True)\n",
    "plt.show()"
   ],
   "metadata": {
    "collapsed": false
   }
  },
  {
   "cell_type": "markdown",
   "source": [
    "I will also query the correlation matrix directly to obtain descriptive statistics, and the top five correlated pairs of variables."
   ],
   "metadata": {
    "collapsed": false
   }
  },
  {
   "cell_type": "code",
   "execution_count": null,
   "outputs": [],
   "source": [
    "corr_matrix = (weather_df\n",
    "               .corr()\n",
    "               .stack()\n",
    "               .reset_index()\n",
    "               .rename(columns={'level_0': 'var1', 'level_1': 'var2', 0: 'value'})\n",
    "               .query(\"var1 != var2 and var1 < var2\")\n",
    "               )\n",
    "\n",
    "corr_matrix.describe()"
   ],
   "metadata": {
    "collapsed": false
   }
  },
  {
   "cell_type": "code",
   "execution_count": null,
   "outputs": [],
   "source": [
    "(corr_matrix\n",
    " .sort_values(by='value', ascending=False)\n",
    " .head(5)\n",
    " .reset_index(drop=True)\n",
    " )"
   ],
   "metadata": {
    "collapsed": false
   }
  },
  {
   "cell_type": "markdown",
   "source": [
    "## Question 1 - conclusion\n",
    "\n",
    "Most variables of the ICRISAT dataset are not highly correlated with each other.\n",
    "\n",
    "The top 5 pairs of variables that exhibit correlation are:\n",
    "1. Evaporation (mm) and FAO 56 reference crop evapotranspiration (mm)\n",
    "2. Evaporation (mm) and Maximum temperature (°C)\n",
    "3. FAO 56 reference crop evapotranspiration (mm) and Maximum temperature (°C)\n",
    "4. FAO 56 reference crop evapotranspiration (mm) and Radiation (mm/hour)\n",
    "5. Radiation (mm/hour) and Bright sunshine (hour)"
   ],
   "metadata": {
    "collapsed": false
   }
  },
  {
   "cell_type": "markdown",
   "source": [
    "# Question 2\n",
    "Which months had the highest average and median rainfall, humidity and radiation? Which months had the lowest?"
   ],
   "metadata": {
    "collapsed": false
   }
  },
  {
   "cell_type": "code",
   "execution_count": null,
   "outputs": [],
   "source": [
    "weather_df_monthly_mean = (weather_df\n",
    "                           .resample('M', on='Date').mean()\n",
    "                           .reset_index()\n",
    "                           .rename(columns={'Date': 'Month'})\n",
    "                           )\n",
    "\n",
    "weather_df_monthly_median = (weather_df\n",
    "                             .resample('M', on='Date').median()\n",
    "                             .reset_index()\n",
    "                             .rename(columns={'Date': 'Month'})\n",
    "                             )"
   ],
   "metadata": {
    "collapsed": false
   }
  },
  {
   "cell_type": "markdown",
   "source": [
    "Firstly, create some convenience functions to print the highest and lowest values and months.\n",
    "\n",
    "If multiple months exist with the same highest or lowest value, the first month will be printed."
   ],
   "metadata": {
    "collapsed": false
   }
  },
  {
   "cell_type": "code",
   "execution_count": null,
   "outputs": [],
   "source": [
    "def print_weather_stats(agg_type, weather_var):\n",
    "    dict_agg_type = {'mean': weather_df_monthly_mean, 'median': weather_df_monthly_median}\n",
    "    _a, _b = dict_agg_type.get(agg_type).loc[dict_agg_type.get(agg_type)[weather_var].idxmax(), ['Month', weather_var]]\n",
    "    print(f\"{_a:%B %Y} had the {agg_type} highest {weather_var} of {_b:.2f}.\")\n",
    "    _c, _d = dict_agg_type.get(agg_type).loc[dict_agg_type.get(agg_type)[weather_var].idxmin(), ['Month', weather_var]]\n",
    "    print(f\"{_c:%B %Y} had the {agg_type} lowest {weather_var} of {_d:.2f}.\")\n",
    "    return"
   ],
   "metadata": {
    "collapsed": false
   }
  },
  {
   "cell_type": "markdown",
   "source": [
    "## Rainfall"
   ],
   "metadata": {
    "collapsed": false
   }
  },
  {
   "cell_type": "code",
   "execution_count": null,
   "outputs": [],
   "source": [
    "print_weather_stats('median', 'Rain')\n",
    "print_weather_stats('mean', 'Rain')"
   ],
   "metadata": {
    "collapsed": false
   }
  },
  {
   "cell_type": "markdown",
   "source": [
    "## Humidity"
   ],
   "metadata": {
    "collapsed": false
   }
  },
  {
   "cell_type": "code",
   "execution_count": null,
   "outputs": [],
   "source": [
    "print_weather_stats('median', 'RH1')\n",
    "print_weather_stats('mean', 'RH1')"
   ],
   "metadata": {
    "collapsed": false
   }
  },
  {
   "cell_type": "markdown",
   "source": [
    "## Radiation"
   ],
   "metadata": {
    "collapsed": false
   }
  },
  {
   "cell_type": "code",
   "execution_count": null,
   "outputs": [],
   "source": [
    "print_weather_stats('median', 'Radiation')\n",
    "print_weather_stats('mean', 'Radiation')"
   ],
   "metadata": {
    "collapsed": false
   }
  },
  {
   "cell_type": "code",
   "execution_count": null,
   "outputs": [],
   "source": [
    "drought_df_daily = (drought_df\n",
    "                    .assign(change_sign=lambda x: np.sign(x.idi).diff().ne(0),\n",
    "                            is_pos=lambda x: x.idi.gt(0),\n",
    "                            ds=lambda x: x.idi.gt(0).astype(int).replace(0, -1),\n",
    "                            days=lambda x: abs(x.groupby((x.ds != x.ds.shift()).cumsum()).cumsum().loc[:, 'ds'])\n",
    "                            )\n",
    "                    .drop(columns=['ds', 'change_sign'], axis=1)\n",
    "                    )"
   ],
   "metadata": {
    "collapsed": false
   }
  },
  {
   "cell_type": "markdown",
   "metadata": {},
   "source": []
  }
 ],
 "metadata": {
  "kernelspec": {
   "display_name": "Python 3 (ipykernel)",
   "language": "python",
   "name": "python3"
  },
  "language_info": {
   "codemirror_mode": {
    "name": "ipython",
    "version": 3
   },
   "file_extension": ".py",
   "mimetype": "text/x-python",
   "name": "python",
   "nbconvert_exporter": "python",
   "pygments_lexer": "ipython3",
   "version": "3.10.5"
  }
 },
 "nbformat": 4,
 "nbformat_minor": 1
}
